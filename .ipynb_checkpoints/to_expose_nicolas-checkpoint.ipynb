{
 "cells": [
  {
   "cell_type": "markdown",
   "metadata": {
    "id": "lX4xpCQQl4Qo"
   },
   "source": [
    "# Trabajo de Juan"
   ]
  },
  {
   "cell_type": "markdown",
   "metadata": {
    "id": "dx1pZolXl4Qw"
   },
   "source": [
    "## Problema\n",
    "\n",
    "El problema consiste en predecir la probabilidad de atraso de los vuelos que aterrizan o despegan del aeropuerto de Santiago\n",
    "de Chile (SCL). Para eso les entregamos un dataset usando datos públicos y reales donde cada fila corresponde a un vuelo\n",
    "que aterrizó o despegó de SCL. Para cada vuelo se cuenta con la siguiente información:\n",
    "\n",
    "* **Fecha-I** : Fecha y hora programada del vuelo.\n",
    "* **Vlo-I** : Número de vuelo programado.\n",
    "* **Ori-I** : Código de ciudad de origen programado.\n",
    "* **Des-I** : Código de ciudad de destino programado.\n",
    "* **Emp-I** : Código aerolínea de vuelo programado.\n",
    "* **Fecha-O** : Fecha y hora de operación del vuelo.\n",
    "* **Vlo-O** : Número de vuelo de operación del vuelo.\n",
    "* **Ori-O** : Código de ciudad de origen de operación\n",
    "* **Des-O** : Código de ciudad de destino de operación.\n",
    "* **Emp-O** : Código aerolínea de vuelo operado.\n",
    "* **DIA** : Día del mes de operación del vuelo.\n",
    "* **MES** : Número de mes de operación del vuelo.\n",
    "* **AÑO** : Año de operación del vuelo.\n",
    "* **DIANOM** : Día de la semana de operación del vuelo.\n",
    "* **TIPOVUELO** : Tipo de vuelo, I =Internacional, N =Nacional.\n",
    "* **OPERA** : Nombre de aerolínea que opera.\n",
    "* **SIGLAORI** : Nombre ciudad origen.\n",
    "* **SIGLADES** : Nombre ciudad destino."
   ]
  },
  {
   "cell_type": "markdown",
   "metadata": {
    "id": "lzIZPzB2l4Q6"
   },
   "source": [
    "## Desarrollo"
   ]
  },
  {
   "cell_type": "markdown",
   "metadata": {
    "id": "fbVueZP_l4Q-"
   },
   "source": [
    "### 0. Obtención de datos"
   ]
  },
  {
   "cell_type": "code",
   "execution_count": 1,
   "metadata": {},
   "outputs": [
    {
     "name": "stdout",
     "output_type": "stream",
     "text": [
      "Requirement already satisfied: missingno in c:\\users\\nicol\\anaconda3\\lib\\site-packages (0.5.2)"
     ]
    },
    {
     "name": "stderr",
     "output_type": "stream",
     "text": [
      "WARNING: You are using pip version 21.1.2; however, version 23.0.1 is available.\n",
      "You should consider upgrading via the 'C:\\Users\\nicol\\anaconda3\\python.exe -m pip install --upgrade pip' command.\n"
     ]
    },
    {
     "name": "stdout",
     "output_type": "stream",
     "text": [
      "\n",
      "Requirement already satisfied: numpy in c:\\users\\nicol\\anaconda3\\lib\\site-packages (from missingno) (1.21.5)\n",
      "Requirement already satisfied: matplotlib in c:\\users\\nicol\\anaconda3\\lib\\site-packages (from missingno) (3.5.2)\n",
      "Requirement already satisfied: scipy in c:\\users\\nicol\\anaconda3\\lib\\site-packages (from missingno) (1.9.1)\n",
      "Requirement already satisfied: seaborn in c:\\users\\nicol\\anaconda3\\lib\\site-packages (from missingno) (0.11.2)\n",
      "Requirement already satisfied: pyparsing>=2.2.1 in c:\\users\\nicol\\anaconda3\\lib\\site-packages (from matplotlib->missingno) (3.0.9)\n",
      "Requirement already satisfied: fonttools>=4.22.0 in c:\\users\\nicol\\anaconda3\\lib\\site-packages (from matplotlib->missingno) (4.25.0)\n",
      "Requirement already satisfied: packaging>=20.0 in c:\\users\\nicol\\anaconda3\\lib\\site-packages (from matplotlib->missingno) (21.3)\n",
      "Requirement already satisfied: cycler>=0.10 in c:\\users\\nicol\\anaconda3\\lib\\site-packages (from matplotlib->missingno) (0.11.0)\n",
      "Requirement already satisfied: pillow>=6.2.0 in c:\\users\\nicol\\anaconda3\\lib\\site-packages (from matplotlib->missingno) (9.2.0)\n",
      "Requirement already satisfied: python-dateutil>=2.7 in c:\\users\\nicol\\anaconda3\\lib\\site-packages (from matplotlib->missingno) (2.8.2)\n",
      "Requirement already satisfied: kiwisolver>=1.0.1 in c:\\users\\nicol\\anaconda3\\lib\\site-packages (from matplotlib->missingno) (1.4.2)\n",
      "Requirement already satisfied: six>=1.5 in c:\\users\\nicol\\anaconda3\\lib\\site-packages (from python-dateutil>=2.7->matplotlib->missingno) (1.16.0)\n",
      "Requirement already satisfied: pandas>=0.23 in c:\\users\\nicol\\appdata\\roaming\\python\\python39\\site-packages (from seaborn->missingno) (1.2.4)\n",
      "Requirement already satisfied: pytz>=2017.3 in c:\\users\\nicol\\appdata\\roaming\\python\\python39\\site-packages (from pandas>=0.23->seaborn->missingno) (2021.1)\n"
     ]
    }
   ],
   "source": [
    "!pip install missingno"
   ]
  },
  {
   "cell_type": "code",
   "execution_count": 2,
   "metadata": {
    "id": "nWnPkR4dl4RB",
    "scrolled": false
   },
   "outputs": [],
   "source": [
    "#Se importan las librerías necesarias para el problema\n",
    "import pandas as pd\n",
    "import numpy as np\n",
    "import matplotlib.pyplot as plt\n",
    "import seaborn as sns\n",
    "\n",
    "import missingno as msng\n",
    "import warnings\n",
    "warnings.filterwarnings('ignore')\n",
    "%matplotlib inline\n",
    "plt.rcParams['figure.figsize'] = (15, 10)"
   ]
  },
  {
   "cell_type": "code",
   "execution_count": 3,
   "metadata": {
    "id": "V-ALICTRl4RG",
    "scrolled": true
   },
   "outputs": [],
   "source": [
    "df = pd.read_csv('dataset_SCL.csv')"
   ]
  },
  {
   "cell_type": "code",
   "execution_count": 4,
   "metadata": {
    "colab": {
     "base_uri": "https://localhost:8080/"
    },
    "id": "noqLoi1Xl4RM",
    "outputId": "a90d652f-94ed-48d6-bdb5-75b782d340f0"
   },
   "outputs": [
    {
     "data": {
      "text/plain": [
       "(68206, 18)"
      ]
     },
     "execution_count": 4,
     "metadata": {},
     "output_type": "execute_result"
    }
   ],
   "source": [
    "df.shape"
   ]
  },
  {
   "cell_type": "code",
   "execution_count": 5,
   "metadata": {
    "colab": {
     "base_uri": "https://localhost:8080/"
    },
    "id": "Hm3jUasvl4RR",
    "outputId": "55448452-acf4-4dc8-8ba2-6e6e1fa391fd"
   },
   "outputs": [
    {
     "name": "stdout",
     "output_type": "stream",
     "text": [
      "<class 'pandas.core.frame.DataFrame'>\n",
      "RangeIndex: 68206 entries, 0 to 68205\n",
      "Data columns (total 18 columns):\n",
      " #   Column     Non-Null Count  Dtype \n",
      "---  ------     --------------  ----- \n",
      " 0   Fecha-I    68206 non-null  object\n",
      " 1   Vlo-I      68206 non-null  object\n",
      " 2   Ori-I      68206 non-null  object\n",
      " 3   Des-I      68206 non-null  object\n",
      " 4   Emp-I      68206 non-null  object\n",
      " 5   Fecha-O    68206 non-null  object\n",
      " 6   Vlo-O      68205 non-null  object\n",
      " 7   Ori-O      68206 non-null  object\n",
      " 8   Des-O      68206 non-null  object\n",
      " 9   Emp-O      68206 non-null  object\n",
      " 10  DIA        68206 non-null  int64 \n",
      " 11  MES        68206 non-null  int64 \n",
      " 12  AÑO        68206 non-null  int64 \n",
      " 13  DIANOM     68206 non-null  object\n",
      " 14  TIPOVUELO  68206 non-null  object\n",
      " 15  OPERA      68206 non-null  object\n",
      " 16  SIGLAORI   68206 non-null  object\n",
      " 17  SIGLADES   68206 non-null  object\n",
      "dtypes: int64(3), object(15)\n",
      "memory usage: 9.4+ MB\n"
     ]
    }
   ],
   "source": [
    "df.info()"
   ]
  },
  {
   "cell_type": "code",
   "execution_count": 6,
   "metadata": {
    "id": "ULrhL4i4l4RU",
    "scrolled": true
   },
   "outputs": [],
   "source": [
    "#msng.matrix(df)"
   ]
  },
  {
   "cell_type": "code",
   "execution_count": 7,
   "metadata": {
    "id": "uodbPKFdl4RZ"
   },
   "outputs": [],
   "source": [
    "#df.describe()"
   ]
  },
  {
   "cell_type": "code",
   "execution_count": 8,
   "metadata": {
    "colab": {
     "base_uri": "https://localhost:8080/",
     "height": 461
    },
    "id": "7ZwP81sJt9hG",
    "outputId": "b64bf02c-9c23-415e-c852-ac193b7da7d1"
   },
   "outputs": [
    {
     "data": {
      "text/html": [
       "<div>\n",
       "<style scoped>\n",
       "    .dataframe tbody tr th:only-of-type {\n",
       "        vertical-align: middle;\n",
       "    }\n",
       "\n",
       "    .dataframe tbody tr th {\n",
       "        vertical-align: top;\n",
       "    }\n",
       "\n",
       "    .dataframe thead th {\n",
       "        text-align: right;\n",
       "    }\n",
       "</style>\n",
       "<table border=\"1\" class=\"dataframe\">\n",
       "  <thead>\n",
       "    <tr style=\"text-align: right;\">\n",
       "      <th></th>\n",
       "      <th>Fecha-I</th>\n",
       "      <th>Vlo-I</th>\n",
       "      <th>Ori-I</th>\n",
       "      <th>Des-I</th>\n",
       "      <th>Emp-I</th>\n",
       "      <th>Fecha-O</th>\n",
       "      <th>Vlo-O</th>\n",
       "      <th>Ori-O</th>\n",
       "      <th>Des-O</th>\n",
       "      <th>Emp-O</th>\n",
       "      <th>DIA</th>\n",
       "      <th>MES</th>\n",
       "      <th>AÑO</th>\n",
       "      <th>DIANOM</th>\n",
       "      <th>TIPOVUELO</th>\n",
       "      <th>OPERA</th>\n",
       "      <th>SIGLAORI</th>\n",
       "      <th>SIGLADES</th>\n",
       "    </tr>\n",
       "  </thead>\n",
       "  <tbody>\n",
       "    <tr>\n",
       "      <th>0</th>\n",
       "      <td>2017-01-01 23:30:00</td>\n",
       "      <td>226</td>\n",
       "      <td>SCEL</td>\n",
       "      <td>KMIA</td>\n",
       "      <td>AAL</td>\n",
       "      <td>2017-01-01 23:33:00</td>\n",
       "      <td>226</td>\n",
       "      <td>SCEL</td>\n",
       "      <td>KMIA</td>\n",
       "      <td>AAL</td>\n",
       "      <td>1</td>\n",
       "      <td>1</td>\n",
       "      <td>2017</td>\n",
       "      <td>Domingo</td>\n",
       "      <td>I</td>\n",
       "      <td>American Airlines</td>\n",
       "      <td>Santiago</td>\n",
       "      <td>Miami</td>\n",
       "    </tr>\n",
       "    <tr>\n",
       "      <th>1</th>\n",
       "      <td>2017-01-02 23:30:00</td>\n",
       "      <td>226</td>\n",
       "      <td>SCEL</td>\n",
       "      <td>KMIA</td>\n",
       "      <td>AAL</td>\n",
       "      <td>2017-01-02 23:39:00</td>\n",
       "      <td>226</td>\n",
       "      <td>SCEL</td>\n",
       "      <td>KMIA</td>\n",
       "      <td>AAL</td>\n",
       "      <td>2</td>\n",
       "      <td>1</td>\n",
       "      <td>2017</td>\n",
       "      <td>Lunes</td>\n",
       "      <td>I</td>\n",
       "      <td>American Airlines</td>\n",
       "      <td>Santiago</td>\n",
       "      <td>Miami</td>\n",
       "    </tr>\n",
       "    <tr>\n",
       "      <th>2</th>\n",
       "      <td>2017-01-03 23:30:00</td>\n",
       "      <td>226</td>\n",
       "      <td>SCEL</td>\n",
       "      <td>KMIA</td>\n",
       "      <td>AAL</td>\n",
       "      <td>2017-01-03 23:39:00</td>\n",
       "      <td>226</td>\n",
       "      <td>SCEL</td>\n",
       "      <td>KMIA</td>\n",
       "      <td>AAL</td>\n",
       "      <td>3</td>\n",
       "      <td>1</td>\n",
       "      <td>2017</td>\n",
       "      <td>Martes</td>\n",
       "      <td>I</td>\n",
       "      <td>American Airlines</td>\n",
       "      <td>Santiago</td>\n",
       "      <td>Miami</td>\n",
       "    </tr>\n",
       "    <tr>\n",
       "      <th>3</th>\n",
       "      <td>2017-01-04 23:30:00</td>\n",
       "      <td>226</td>\n",
       "      <td>SCEL</td>\n",
       "      <td>KMIA</td>\n",
       "      <td>AAL</td>\n",
       "      <td>2017-01-04 23:33:00</td>\n",
       "      <td>226</td>\n",
       "      <td>SCEL</td>\n",
       "      <td>KMIA</td>\n",
       "      <td>AAL</td>\n",
       "      <td>4</td>\n",
       "      <td>1</td>\n",
       "      <td>2017</td>\n",
       "      <td>Miercoles</td>\n",
       "      <td>I</td>\n",
       "      <td>American Airlines</td>\n",
       "      <td>Santiago</td>\n",
       "      <td>Miami</td>\n",
       "    </tr>\n",
       "    <tr>\n",
       "      <th>4</th>\n",
       "      <td>2017-01-05 23:30:00</td>\n",
       "      <td>226</td>\n",
       "      <td>SCEL</td>\n",
       "      <td>KMIA</td>\n",
       "      <td>AAL</td>\n",
       "      <td>2017-01-05 23:28:00</td>\n",
       "      <td>226</td>\n",
       "      <td>SCEL</td>\n",
       "      <td>KMIA</td>\n",
       "      <td>AAL</td>\n",
       "      <td>5</td>\n",
       "      <td>1</td>\n",
       "      <td>2017</td>\n",
       "      <td>Jueves</td>\n",
       "      <td>I</td>\n",
       "      <td>American Airlines</td>\n",
       "      <td>Santiago</td>\n",
       "      <td>Miami</td>\n",
       "    </tr>\n",
       "  </tbody>\n",
       "</table>\n",
       "</div>"
      ],
      "text/plain": [
       "               Fecha-I Vlo-I Ori-I Des-I Emp-I              Fecha-O Vlo-O  \\\n",
       "0  2017-01-01 23:30:00   226  SCEL  KMIA   AAL  2017-01-01 23:33:00   226   \n",
       "1  2017-01-02 23:30:00   226  SCEL  KMIA   AAL  2017-01-02 23:39:00   226   \n",
       "2  2017-01-03 23:30:00   226  SCEL  KMIA   AAL  2017-01-03 23:39:00   226   \n",
       "3  2017-01-04 23:30:00   226  SCEL  KMIA   AAL  2017-01-04 23:33:00   226   \n",
       "4  2017-01-05 23:30:00   226  SCEL  KMIA   AAL  2017-01-05 23:28:00   226   \n",
       "\n",
       "  Ori-O Des-O Emp-O  DIA  MES   AÑO     DIANOM TIPOVUELO              OPERA  \\\n",
       "0  SCEL  KMIA   AAL    1    1  2017    Domingo         I  American Airlines   \n",
       "1  SCEL  KMIA   AAL    2    1  2017      Lunes         I  American Airlines   \n",
       "2  SCEL  KMIA   AAL    3    1  2017     Martes         I  American Airlines   \n",
       "3  SCEL  KMIA   AAL    4    1  2017  Miercoles         I  American Airlines   \n",
       "4  SCEL  KMIA   AAL    5    1  2017     Jueves         I  American Airlines   \n",
       "\n",
       "   SIGLAORI SIGLADES  \n",
       "0  Santiago    Miami  \n",
       "1  Santiago    Miami  \n",
       "2  Santiago    Miami  \n",
       "3  Santiago    Miami  \n",
       "4  Santiago    Miami  "
      ]
     },
     "execution_count": 8,
     "metadata": {},
     "output_type": "execute_result"
    }
   ],
   "source": [
    "df.head()"
   ]
  },
  {
   "cell_type": "markdown",
   "metadata": {
    "id": "VdbpD6Ckl4Rb"
   },
   "source": [
    "### 1. ¿Cómo se distribuyen los datos? ¿Qué te llama la atención o cuál es tu conclusión sobre esto?"
   ]
  },
  {
   "cell_type": "code",
   "execution_count": 9,
   "metadata": {
    "colab": {
     "base_uri": "https://localhost:8080/",
     "height": 87
    },
    "id": "9SUY8COel4Re",
    "outputId": "e7b710a5-4020-43f8-d646-4881fd080062"
   },
   "outputs": [
    {
     "data": {
      "image/png": "[encoded data removed]",
      "text/plain": [
       "<Figure size 720x432 with 1 Axes>"
      ]
     },
     "metadata": {
      "needs_background": "light"
     },
     "output_type": "display_data"
    }
   ],
   "source": [
    "vuelos_aerolineas = df['OPERA'].value_counts()\n",
    "plt.figure(figsize = (10,6))\n",
    "sns.set(style=\"darkgrid\")\n",
    "sns.barplot(vuelos_aerolineas.index, vuelos_aerolineas.values, alpha=0.9)\n",
    "plt.title('Cantidad de Vuelos por Aerlínea')\n",
    "plt.ylabel('Número de Vuelos', fontsize=12)\n",
    "plt.xlabel('Aerlínea', fontsize=12)\n",
    "plt.xticks(rotation=90)\n",
    "plt.show()"
   ]
  },
  {
   "cell_type": "code",
   "execution_count": 10,
   "metadata": {
    "colab": {
     "base_uri": "https://localhost:8080/",
     "height": 87
    },
    "id": "fK70unY9l4Ri",
    "outputId": "c60897eb-7693-428b-e654-d5fcb42d4b19"
   },
   "outputs": [
    {
     "data": {
      "image/png": "[encoded data removed]",
      "text/plain": [
       "<Figure size 720x432 with 1 Axes>"
      ]
     },
     "metadata": {},
     "output_type": "display_data"
    }
   ],
   "source": [
    "vuelos_dia = df['DIA'].value_counts()\n",
    "plt.figure(figsize = (10,6))\n",
    "sns.set(style = \"darkgrid\")\n",
    "sns.barplot(vuelos_dia.index, vuelos_dia.values, color = 'lightblue', alpha=0.8)\n",
    "plt.title('Cantidad de Vuelos por día del Mes')\n",
    "plt.ylabel('Número de Vuelos', fontsize=12)\n",
    "plt.xlabel('Día del Mes', fontsize=12)\n",
    "plt.xticks(rotation=90)\n",
    "plt.show()"
   ]
  },
  {
   "cell_type": "code",
   "execution_count": 11,
   "metadata": {
    "colab": {
     "base_uri": "https://localhost:8080/",
     "height": 87
    },
    "id": "YSQ5ZrOpl4Rm",
    "outputId": "4ea67d52-e9f3-47ef-c1a8-cd48ae4e837e"
   },
   "outputs": [
    {
     "data": {
      "image/png": "[encoded data removed]",
      "text/plain": [
       "<Figure size 1080x720 with 1 Axes>"
      ]
     },
     "metadata": {},
     "output_type": "display_data"
    }
   ],
   "source": [
    "vuelos_mes = df['MES'].value_counts()\n",
    "sns.set(style = \"darkgrid\")\n",
    "sns.barplot(vuelos_mes.index, vuelos_mes.values, color = 'lightblue', alpha=0.8)\n",
    "plt.title('Cantidad de Vuelos por día del Mes')\n",
    "plt.ylabel('Número de Vuelos', fontsize=12)\n",
    "plt.xlabel('Día del Mes', fontsize=12)\n",
    "plt.xticks(rotation=90)\n",
    "plt.show()"
   ]
  },
  {
   "cell_type": "code",
   "execution_count": 12,
   "metadata": {
    "colab": {
     "base_uri": "https://localhost:8080/",
     "height": 122
    },
    "id": "Ix-8HiEwl4Rn",
    "outputId": "4e0b8e8e-95b6-4530-d174-b12193f385cd",
    "scrolled": true
   },
   "outputs": [
    {
     "data": {
      "image/png": "[encoded data removed]",
      "text/plain": [
       "<Figure size 1080x720 with 1 Axes>"
      ]
     },
     "metadata": {},
     "output_type": "display_data"
    }
   ],
   "source": [
    "vuelos = df['DIANOM'].value_counts()\n",
    "dias = [vuelos.index[2], vuelos.index[5], vuelos.index[4], vuelos.index[1], vuelos.index[0], vuelos.index[6], vuelos.index[3]]\n",
    "valores_dias = [vuelos.values[2], vuelos.values[5], vuelos.values[4], vuelos.values[1], vuelos.values[0], vuelos.values[6], vuelos.values[3]]\n",
    "\n",
    "sns.set(style=\"darkgrid\")\n",
    "sns.barplot(dias, valores_dias, color = 'lightblue', alpha=0.8)\n",
    "plt.title('Cantidad de Vuelos por Día de la Semana')\n",
    "plt.ylabel('Número de Vuelos', fontsize=12)\n",
    "plt.xlabel('Día de la Semana', fontsize=12)\n",
    "plt.xticks(rotation=90)\n",
    "plt.show()"
   ]
  },
  {
   "cell_type": "code",
   "execution_count": 13,
   "metadata": {
    "colab": {
     "base_uri": "https://localhost:8080/",
     "height": 70
    },
    "id": "9I916xK-l4Rq",
    "outputId": "ab92dd19-7425-40f9-b8a3-85bef5da7bb9"
   },
   "outputs": [
    {
     "data": {
      "image/png": "[encoded data removed]",
      "text/plain": [
       "<Figure size 1080x720 with 1 Axes>"
      ]
     },
     "metadata": {},
     "output_type": "display_data"
    }
   ],
   "source": [
    "vuelos = df['TIPOVUELO'].value_counts()\n",
    "sns.set(style=\"darkgrid\")\n",
    "sns.barplot(vuelos.index, vuelos.values, alpha=0.9)\n",
    "plt.title('Cantidad de Vuelos por Tipo de Vuelo')\n",
    "plt.ylabel('Número de Vuelos', fontsize=12)\n",
    "plt.xlabel('Tipo de Vuelo', fontsize=12)\n",
    "plt.show()\n"
   ]
  },
  {
   "cell_type": "code",
   "execution_count": 14,
   "metadata": {
    "colab": {
     "base_uri": "https://localhost:8080/",
     "height": 70
    },
    "id": "BjGmiMg1l4Rt",
    "outputId": "ba711f35-9236-44c3-a2e7-ea2b368abff5"
   },
   "outputs": [
    {
     "data": {
      "image/png": "[encoded data removed]",
      "text/plain": [
       "<Figure size 1080x720 with 1 Axes>"
      ]
     },
     "metadata": {},
     "output_type": "display_data"
    }
   ],
   "source": [
    "vuelos = df['SIGLADES'].value_counts()\n",
    "sns.set(style=\"darkgrid\")\n",
    "sns.barplot(vuelos.index, vuelos.values, color = 'lightblue', alpha=0.8)\n",
    "plt.title('Cantidad de Vuelos por Destino')\n",
    "plt.ylabel('Número de Vuelos', fontsize=12)\n",
    "plt.xlabel('Destino', fontsize=12)\n",
    "plt.xticks(rotation=90)\n",
    "\n",
    "plt.show()"
   ]
  },
  {
   "cell_type": "markdown",
   "metadata": {
    "id": "-0HwoGPAl4Rw"
   },
   "source": [
    "Respecto a las distribuciones, se puede ver que dentro de todo la data está distribuida de manera bastante balanceada. De todas formas se pueden notar ciertas particularidades en algunas columnas: \n",
    "* En las aerolíneas LATAM Airlines es la con mayor cantidad de vuelo debido a que es la más grande aquí en chile y es la que tiene mayor cantidad de destinos. SKY Airlines sería la segunda más grande y de ahí en adelante las demás son bastante similares en cuanto a vuelos. \n",
    "* En cuanto a los días del mes, se puede ver como el día 31 tiene menor cantidad que los demás días y esto se puede deber a que hay menos días 31 durante el año.\n",
    "* Con los días de semana, el día sábado es el único en el que se nota una diferencia. Aquí puede ser porque la gente prefiere ese día para quedarse en donde sea que esté y aprovecharlo en caso que esté de viaje para poder recorrer o solamente descansar.\n",
    "* Por parte de los destinos se puede ver que gran parte se lo llevan las ciudades chilenas del norte. Esto puede ser por un alto flujo en minería."
   ]
  },
  {
   "cell_type": "markdown",
   "metadata": {
    "id": "uCD_BUTrl4Rx"
   },
   "source": [
    "### 2. Genera las columnas adicionales y luego expórtelas en un archivo synthetic_features.csv :"
   ]
  },
  {
   "cell_type": "markdown",
   "metadata": {
    "id": "zq0e3R44l4Rx"
   },
   "source": [
    "* **temporada_alta** : 1 si **Fecha-I** está entre 15-Dic y 3-Mar, o 15-Jul y 31-Jul, o 11-Sep y 30-Sep, 0 si no"
   ]
  },
  {
   "cell_type": "code",
   "execution_count": 15,
   "metadata": {
    "id": "0GqgeBcal4Ry"
   },
   "outputs": [],
   "source": [
    "from datetime import datetime\n",
    "\n",
    "def temporada_alta(fecha):\n",
    "    fecha_año = int(fecha.split('-')[0])\n",
    "    fecha = datetime.strptime(fecha, '%Y-%m-%d %H:%M:%S')\n",
    "    range1_min = datetime.strptime('15-Dec', '%d-%b').replace(year = fecha_año)\n",
    "    range1_max = datetime.strptime('31-Dec', '%d-%b').replace(year = fecha_año)\n",
    "    range2_min = datetime.strptime('1-Jan', '%d-%b').replace(year = fecha_año)\n",
    "    range2_max = datetime.strptime('3-Mar', '%d-%b').replace(year = fecha_año)\n",
    "    range3_min = datetime.strptime('15-Jul', '%d-%b').replace(year = fecha_año)\n",
    "    range3_max = datetime.strptime('31-Jul', '%d-%b').replace(year = fecha_año)\n",
    "    range4_min = datetime.strptime('11-Sep', '%d-%b').replace(year = fecha_año)\n",
    "    range4_max = datetime.strptime('30-Sep', '%d-%b').replace(year = fecha_año)\n",
    "    \n",
    "    if ((fecha >= range1_min and fecha <= range1_max) or \n",
    "        (fecha >= range2_min and fecha <= range2_max) or \n",
    "        (fecha >= range3_min and fecha <= range3_max) or\n",
    "        (fecha >= range4_min and fecha <= range4_max)):\n",
    "        return 1\n",
    "    else:\n",
    "        return 0\n",
    "    "
   ]
  },
  {
   "cell_type": "code",
   "execution_count": 16,
   "metadata": {
    "id": "ND3nbGxgl4Rz",
    "scrolled": true
   },
   "outputs": [],
   "source": [
    "df['temporada_alta'] = df['Fecha-I'].apply(temporada_alta)"
   ]
  },
  {
   "cell_type": "code",
   "execution_count": 17,
   "metadata": {
    "colab": {
     "base_uri": "https://localhost:8080/"
    },
    "id": "yLpFJ1EEl4R0",
    "outputId": "814e6787-3db2-4191-87e8-9c8156a38da1"
   },
   "outputs": [
    {
     "data": {
      "text/plain": [
       "0    46174\n",
       "1    22032\n",
       "Name: temporada_alta, dtype: int64"
      ]
     },
     "execution_count": 17,
     "metadata": {},
     "output_type": "execute_result"
    }
   ],
   "source": [
    "df['temporada_alta'].value_counts()"
   ]
  },
  {
   "cell_type": "markdown",
   "metadata": {
    "id": "NeKzwVgvl4R2"
   },
   "source": [
    "* **dif_min** : diferencia en minutos entre **Fecha-O** y **Fecha-I** ."
   ]
  },
  {
   "cell_type": "code",
   "execution_count": 18,
   "metadata": {
    "id": "gblkFVyKl4R3"
   },
   "outputs": [],
   "source": [
    "def dif_min(data):\n",
    "    fecha_o = datetime.strptime(data['Fecha-O'], '%Y-%m-%d %H:%M:%S')\n",
    "    fecha_i = datetime.strptime(data['Fecha-I'], '%Y-%m-%d %H:%M:%S')\n",
    "    dif_min = ((fecha_o - fecha_i).total_seconds())/60\n",
    "    return dif_min\n",
    "        "
   ]
  },
  {
   "cell_type": "code",
   "execution_count": 19,
   "metadata": {
    "id": "ryAAePPpl4R4"
   },
   "outputs": [],
   "source": [
    "df['dif_min'] = df.apply(dif_min, axis = 1)"
   ]
  },
  {
   "cell_type": "markdown",
   "metadata": {
    "id": "PgwhFJFyl4R6"
   },
   "source": [
    "* **atraso_15** : 1 si **dif_min** > 15, 0 si no."
   ]
  },
  {
   "cell_type": "code",
   "execution_count": 20,
   "metadata": {
    "id": "xXI7XFBzl4R7"
   },
   "outputs": [],
   "source": [
    "df['atraso_15'] = np.where(df['dif_min'] > 15, 1, 0)"
   ]
  },
  {
   "cell_type": "code",
   "execution_count": 21,
   "metadata": {
    "colab": {
     "base_uri": "https://localhost:8080/"
    },
    "id": "2WjuxJ6zl4R7",
    "outputId": "e8223562-9a2f-4d37-bf85-50b00db81257"
   },
   "outputs": [
    {
     "data": {
      "text/plain": [
       "0    55592\n",
       "1    12614\n",
       "Name: atraso_15, dtype: int64"
      ]
     },
     "execution_count": 21,
     "metadata": {},
     "output_type": "execute_result"
    }
   ],
   "source": [
    "df['atraso_15'].value_counts()"
   ]
  },
  {
   "cell_type": "markdown",
   "metadata": {
    "id": "F3IkVMVwl4R8"
   },
   "source": [
    "* **periodo_dia** : mañana (entre 5:00 y 11:59), tarde (entre 12:00 y 18:59) y noche (entre 19:00 y 4:59), en base a **Fecha-I**."
   ]
  },
  {
   "cell_type": "code",
   "execution_count": 22,
   "metadata": {
    "id": "SQ0BDD_5l4R9"
   },
   "outputs": [],
   "source": [
    "def get_periodo_dia(fecha):\n",
    "    fecha_time = datetime.strptime(fecha, '%Y-%m-%d %H:%M:%S').time()\n",
    "    mañana_min = datetime.strptime(\"05:00\", '%H:%M').time()\n",
    "    mañana_max = datetime.strptime(\"11:59\", '%H:%M').time()\n",
    "    tarde_min = datetime.strptime(\"12:00\", '%H:%M').time()\n",
    "    tarde_max = datetime.strptime(\"18:59\", '%H:%M').time()\n",
    "    noche_min1 = datetime.strptime(\"19:00\", '%H:%M').time()\n",
    "    noche_max1 = datetime.strptime(\"23:59\", '%H:%M').time()\n",
    "    noche_min2 = datetime.strptime(\"00:00\", '%H:%M').time()\n",
    "    noche_max2 = datetime.strptime(\"4:59\", '%H:%M').time()\n",
    "    \n",
    "    if(fecha_time > mañana_min and fecha_time < mañana_max):\n",
    "        return 'mañana'\n",
    "    elif(fecha_time > tarde_min and fecha_time < tarde_max):\n",
    "        return 'tarde'\n",
    "    elif((fecha_time > noche_min1 and fecha_time < noche_max1) or\n",
    "         (fecha_time > noche_min2 and fecha_time < noche_max2)):\n",
    "        return 'noche'"
   ]
  },
  {
   "cell_type": "code",
   "execution_count": 23,
   "metadata": {
    "id": "yTeAIH0wl4R-",
    "jupyter": {
     "outputs_hidden": true
    }
   },
   "outputs": [],
   "source": [
    "df['periodo_dia'] = df['Fecha-I'].apply(get_periodo_dia)"
   ]
  },
  {
   "cell_type": "code",
   "execution_count": 24,
   "metadata": {
    "id": "4aUOZHpil4SA"
   },
   "outputs": [],
   "source": [
    "df[['temporada_alta','dif_min','atraso_15','periodo_dia']].to_csv('synthetic_features.csv', index = False)"
   ]
  },
  {
   "cell_type": "markdown",
   "metadata": {
    "id": "EX3zDXNcl4SB"
   },
   "source": [
    "### 3. ¿Cómo se compone la tasa de atraso por destino, aerolínea, mes del año, día de la semana, temporada, tipo de vuelo? ¿Qué variables esperarías que más influyeran en predecir atrasos?"
   ]
  },
  {
   "cell_type": "markdown",
   "metadata": {
    "id": "wV8eT6knl4SD"
   },
   "source": [
    "* ¿Cómo se compone la tasa de atraso por destino, aerolínea, mes del año, día de la semana, temporada, tipo de vuelo?"
   ]
  },
  {
   "cell_type": "code",
   "execution_count": 25,
   "metadata": {
    "colab": {
     "base_uri": "https://localhost:8080/",
     "height": 139
    },
    "id": "GyWEq7a3l4SE",
    "outputId": "8116610a-7389-4c02-d98f-8550b3d8b1a4"
   },
   "outputs": [],
   "source": [
    "def calcular_tasa(df, columna):\n",
    "    \n",
    "    dic_atrasos = {}\n",
    "    for _, row in df.iterrows():\n",
    "        if row['atraso_15'] == 1:\n",
    "            if row[columna] not in dic_atrasos:\n",
    "                dic_atrasos[row[columna]] = 1\n",
    "            else:\n",
    "                dic_atrasos[row[columna]] += 1\n",
    "    \n",
    "    total_values = df[columna].value_counts()\n",
    "    \n",
    "    dic_tasas = {}\n",
    "    for name, total in total_values.iteritems():\n",
    "        if name in dic_atrasos:\n",
    "            dic_tasas[name] = round(total / dic_atrasos[name], 2)\n",
    "        else:\n",
    "            dic_tasas[name] = 0\n",
    "            \n",
    "    return pd.DataFrame.from_dict(data = dic_tasas, orient = 'index', columns = ['Tasa (%)'])\n"
   ]
  },
  {
   "cell_type": "code",
   "execution_count": 26,
   "metadata": {
    "id": "zws8Kb8Xl4SG",
    "jupyter": {
     "outputs_hidden": true
    }
   },
   "outputs": [
    {
     "data": {
      "text/html": [
       "<div>\n",
       "<style scoped>\n",
       "    .dataframe tbody tr th:only-of-type {\n",
       "        vertical-align: middle;\n",
       "    }\n",
       "\n",
       "    .dataframe tbody tr th {\n",
       "        vertical-align: top;\n",
       "    }\n",
       "\n",
       "    .dataframe thead th {\n",
       "        text-align: right;\n",
       "    }\n",
       "</style>\n",
       "<table border=\"1\" class=\"dataframe\">\n",
       "  <thead>\n",
       "    <tr style=\"text-align: right;\">\n",
       "      <th></th>\n",
       "      <th>Tasa (%)</th>\n",
       "    </tr>\n",
       "  </thead>\n",
       "  <tbody>\n",
       "    <tr>\n",
       "      <th>Buenos Aires</th>\n",
       "      <td>3.91</td>\n",
       "    </tr>\n",
       "    <tr>\n",
       "      <th>Antofagasta</th>\n",
       "      <td>6.83</td>\n",
       "    </tr>\n",
       "    <tr>\n",
       "      <th>Lima</th>\n",
       "      <td>4.34</td>\n",
       "    </tr>\n",
       "    <tr>\n",
       "      <th>Calama</th>\n",
       "      <td>8.18</td>\n",
       "    </tr>\n",
       "    <tr>\n",
       "      <th>Puerto Montt</th>\n",
       "      <td>5.94</td>\n",
       "    </tr>\n",
       "    <tr>\n",
       "      <th>...</th>\n",
       "      <td>...</td>\n",
       "    </tr>\n",
       "    <tr>\n",
       "      <th>Quito</th>\n",
       "      <td>1.00</td>\n",
       "    </tr>\n",
       "    <tr>\n",
       "      <th>Puerto Stanley</th>\n",
       "      <td>1.00</td>\n",
       "    </tr>\n",
       "    <tr>\n",
       "      <th>Washington</th>\n",
       "      <td>0.00</td>\n",
       "    </tr>\n",
       "    <tr>\n",
       "      <th>Pisco, Peru</th>\n",
       "      <td>0.00</td>\n",
       "    </tr>\n",
       "    <tr>\n",
       "      <th>Cochabamba</th>\n",
       "      <td>1.00</td>\n",
       "    </tr>\n",
       "  </tbody>\n",
       "</table>\n",
       "<p>62 rows × 1 columns</p>\n",
       "</div>"
      ],
      "text/plain": [
       "                Tasa (%)\n",
       "Buenos Aires        3.91\n",
       "Antofagasta         6.83\n",
       "Lima                4.34\n",
       "Calama              8.18\n",
       "Puerto Montt        5.94\n",
       "...                  ...\n",
       "Quito               1.00\n",
       "Puerto Stanley      1.00\n",
       "Washington          0.00\n",
       "Pisco, Peru         0.00\n",
       "Cochabamba          1.00\n",
       "\n",
       "[62 rows x 1 columns]"
      ]
     },
     "execution_count": 26,
     "metadata": {},
     "output_type": "execute_result"
    }
   ],
   "source": [
    "tasas_destinos = calcular_tasa(df, 'SIGLADES')\n",
    "tasas_destinos"
   ]
  },
  {
   "cell_type": "code",
   "execution_count": 27,
   "metadata": {
    "colab": {
     "base_uri": "https://localhost:8080/",
     "height": 87
    },
    "id": "oys4dx2il4SG",
    "outputId": "cfa0f3e6-894e-482f-8577-f83848cd8e2c"
   },
   "outputs": [
    {
     "data": {
      "image/png": "[encoded data removed]",
      "text/plain": [
       "<Figure size 1440x360 with 1 Axes>"
      ]
     },
     "metadata": {},
     "output_type": "display_data"
    }
   ],
   "source": [
    "\n",
    "tasas_destinos_values = df['SIGLADES'].value_counts().index\n",
    "plt.figure(figsize = (20,5))\n",
    "sns.set(style=\"darkgrid\")\n",
    "sns.barplot(df['SIGLADES'].value_counts().index, tasas_destinos['Tasa (%)'], alpha = 0.75)\n",
    "plt.title('Tasa de Retraso por Destino')\n",
    "plt.ylabel('Tasa de Retraso [%]', fontsize=12)\n",
    "plt.xlabel('Destino', fontsize=12)\n",
    "plt.xticks(rotation=90)\n",
    "plt.show()\n"
   ]
  },
  {
   "cell_type": "code",
   "execution_count": 28,
   "metadata": {
    "id": "NXbaPTNsl4SH",
    "scrolled": true
   },
   "outputs": [
    {
     "data": {
      "text/html": [
       "<div>\n",
       "<style scoped>\n",
       "    .dataframe tbody tr th:only-of-type {\n",
       "        vertical-align: middle;\n",
       "    }\n",
       "\n",
       "    .dataframe tbody tr th {\n",
       "        vertical-align: top;\n",
       "    }\n",
       "\n",
       "    .dataframe thead th {\n",
       "        text-align: right;\n",
       "    }\n",
       "</style>\n",
       "<table border=\"1\" class=\"dataframe\">\n",
       "  <thead>\n",
       "    <tr style=\"text-align: right;\">\n",
       "      <th></th>\n",
       "      <th>Tasa (%)</th>\n",
       "    </tr>\n",
       "  </thead>\n",
       "  <tbody>\n",
       "    <tr>\n",
       "      <th>Grupo LATAM</th>\n",
       "      <td>5.60</td>\n",
       "    </tr>\n",
       "    <tr>\n",
       "      <th>Sky Airline</th>\n",
       "      <td>5.63</td>\n",
       "    </tr>\n",
       "    <tr>\n",
       "      <th>Aerolineas Argentinas</th>\n",
       "      <td>4.16</td>\n",
       "    </tr>\n",
       "    <tr>\n",
       "      <th>Copa Air</th>\n",
       "      <td>15.95</td>\n",
       "    </tr>\n",
       "    <tr>\n",
       "      <th>Latin American Wings</th>\n",
       "      <td>2.46</td>\n",
       "    </tr>\n",
       "    <tr>\n",
       "      <th>Avianca</th>\n",
       "      <td>3.76</td>\n",
       "    </tr>\n",
       "    <tr>\n",
       "      <th>JetSmart SPA</th>\n",
       "      <td>5.59</td>\n",
       "    </tr>\n",
       "    <tr>\n",
       "      <th>Gol Trans</th>\n",
       "      <td>2.81</td>\n",
       "    </tr>\n",
       "    <tr>\n",
       "      <th>American Airlines</th>\n",
       "      <td>14.84</td>\n",
       "    </tr>\n",
       "    <tr>\n",
       "      <th>Air Canada</th>\n",
       "      <td>2.19</td>\n",
       "    </tr>\n",
       "    <tr>\n",
       "      <th>Iberia</th>\n",
       "      <td>10.06</td>\n",
       "    </tr>\n",
       "    <tr>\n",
       "      <th>Delta Air</th>\n",
       "      <td>17.05</td>\n",
       "    </tr>\n",
       "    <tr>\n",
       "      <th>Air France</th>\n",
       "      <td>11.93</td>\n",
       "    </tr>\n",
       "    <tr>\n",
       "      <th>Aeromexico</th>\n",
       "      <td>35.10</td>\n",
       "    </tr>\n",
       "    <tr>\n",
       "      <th>United Airlines</th>\n",
       "      <td>19.71</td>\n",
       "    </tr>\n",
       "    <tr>\n",
       "      <th>Oceanair Linhas Aereas</th>\n",
       "      <td>6.49</td>\n",
       "    </tr>\n",
       "    <tr>\n",
       "      <th>Alitalia</th>\n",
       "      <td>8.93</td>\n",
       "    </tr>\n",
       "    <tr>\n",
       "      <th>K.L.M.</th>\n",
       "      <td>11.95</td>\n",
       "    </tr>\n",
       "    <tr>\n",
       "      <th>British Airways</th>\n",
       "      <td>7.07</td>\n",
       "    </tr>\n",
       "    <tr>\n",
       "      <th>Qantas Airways</th>\n",
       "      <td>1.73</td>\n",
       "    </tr>\n",
       "    <tr>\n",
       "      <th>Lacsa</th>\n",
       "      <td>8.36</td>\n",
       "    </tr>\n",
       "    <tr>\n",
       "      <th>Austral</th>\n",
       "      <td>4.93</td>\n",
       "    </tr>\n",
       "    <tr>\n",
       "      <th>Plus Ultra Lineas Aereas</th>\n",
       "      <td>1.63</td>\n",
       "    </tr>\n",
       "  </tbody>\n",
       "</table>\n",
       "</div>"
      ],
      "text/plain": [
       "                          Tasa (%)\n",
       "Grupo LATAM                   5.60\n",
       "Sky Airline                   5.63\n",
       "Aerolineas Argentinas         4.16\n",
       "Copa Air                     15.95\n",
       "Latin American Wings          2.46\n",
       "Avianca                       3.76\n",
       "JetSmart SPA                  5.59\n",
       "Gol Trans                     2.81\n",
       "American Airlines            14.84\n",
       "Air Canada                    2.19\n",
       "Iberia                       10.06\n",
       "Delta Air                    17.05\n",
       "Air France                   11.93\n",
       "Aeromexico                   35.10\n",
       "United Airlines              19.71\n",
       "Oceanair Linhas Aereas        6.49\n",
       "Alitalia                      8.93\n",
       "K.L.M.                       11.95\n",
       "British Airways               7.07\n",
       "Qantas Airways                1.73\n",
       "Lacsa                         8.36\n",
       "Austral                       4.93\n",
       "Plus Ultra Lineas Aereas      1.63"
      ]
     },
     "execution_count": 28,
     "metadata": {},
     "output_type": "execute_result"
    }
   ],
   "source": [
    "tasas_aerolineas = calcular_tasa(df, 'OPERA')\n",
    "tasas_aerolineas"
   ]
  },
  {
   "cell_type": "code",
   "execution_count": 29,
   "metadata": {
    "colab": {
     "base_uri": "https://localhost:8080/",
     "height": 70
    },
    "id": "TXY5ZEhAl4SJ",
    "outputId": "2ed3f772-162f-4516-9aae-31621472d010"
   },
   "outputs": [
    {
     "data": {
      "image/png": "[encoded data removed]",
      "text/plain": [
       "<Figure size 720x360 with 1 Axes>"
      ]
     },
     "metadata": {},
     "output_type": "display_data"
    }
   ],
   "source": [
    "tasas_aerolineas_values = df['OPERA'].value_counts().index\n",
    "\n",
    "plt.figure(figsize = (10,5))\n",
    "sns.set(style=\"darkgrid\")\n",
    "sns.barplot(tasas_aerolineas_values, tasas_aerolineas['Tasa (%)'], alpha = 0.75)\n",
    "plt.title('Tasa de Retraso por Aerlínea')\n",
    "plt.ylabel('Tasa de Retraso [%]', fontsize=12)\n",
    "plt.xlabel('Aerolínea', fontsize=12)\n",
    "plt.xticks(rotation=90)\n",
    "plt.show()\n"
   ]
  },
  {
   "cell_type": "code",
   "execution_count": 30,
   "metadata": {
    "id": "vb4JGYj2l4SK",
    "jupyter": {
     "outputs_hidden": true
    }
   },
   "outputs": [
    {
     "data": {
      "text/html": [
       "<div>\n",
       "<style scoped>\n",
       "    .dataframe tbody tr th:only-of-type {\n",
       "        vertical-align: middle;\n",
       "    }\n",
       "\n",
       "    .dataframe tbody tr th {\n",
       "        vertical-align: top;\n",
       "    }\n",
       "\n",
       "    .dataframe thead th {\n",
       "        text-align: right;\n",
       "    }\n",
       "</style>\n",
       "<table border=\"1\" class=\"dataframe\">\n",
       "  <thead>\n",
       "    <tr style=\"text-align: right;\">\n",
       "      <th></th>\n",
       "      <th>Tasa (%)</th>\n",
       "    </tr>\n",
       "  </thead>\n",
       "  <tbody>\n",
       "    <tr>\n",
       "      <th>12</th>\n",
       "      <td>3.94</td>\n",
       "    </tr>\n",
       "    <tr>\n",
       "      <th>1</th>\n",
       "      <td>6.25</td>\n",
       "    </tr>\n",
       "    <tr>\n",
       "      <th>11</th>\n",
       "      <td>5.07</td>\n",
       "    </tr>\n",
       "    <tr>\n",
       "      <th>10</th>\n",
       "      <td>4.43</td>\n",
       "    </tr>\n",
       "    <tr>\n",
       "      <th>7</th>\n",
       "      <td>3.41</td>\n",
       "    </tr>\n",
       "    <tr>\n",
       "      <th>8</th>\n",
       "      <td>5.77</td>\n",
       "    </tr>\n",
       "    <tr>\n",
       "      <th>9</th>\n",
       "      <td>5.80</td>\n",
       "    </tr>\n",
       "    <tr>\n",
       "      <th>2</th>\n",
       "      <td>6.60</td>\n",
       "    </tr>\n",
       "    <tr>\n",
       "      <th>3</th>\n",
       "      <td>8.69</td>\n",
       "    </tr>\n",
       "    <tr>\n",
       "      <th>5</th>\n",
       "      <td>6.34</td>\n",
       "    </tr>\n",
       "    <tr>\n",
       "      <th>4</th>\n",
       "      <td>8.58</td>\n",
       "    </tr>\n",
       "    <tr>\n",
       "      <th>6</th>\n",
       "      <td>5.85</td>\n",
       "    </tr>\n",
       "  </tbody>\n",
       "</table>\n",
       "</div>"
      ],
      "text/plain": [
       "    Tasa (%)\n",
       "12      3.94\n",
       "1       6.25\n",
       "11      5.07\n",
       "10      4.43\n",
       "7       3.41\n",
       "8       5.77\n",
       "9       5.80\n",
       "2       6.60\n",
       "3       8.69\n",
       "5       6.34\n",
       "4       8.58\n",
       "6       5.85"
      ]
     },
     "execution_count": 30,
     "metadata": {},
     "output_type": "execute_result"
    }
   ],
   "source": [
    "tasas_meses = calcular_tasa(df, 'MES')\n",
    "tasas_meses"
   ]
  },
  {
   "cell_type": "code",
   "execution_count": 31,
   "metadata": {
    "colab": {
     "base_uri": "https://localhost:8080/",
     "height": 87
    },
    "id": "0JxjEQp6l4SL",
    "outputId": "39eefa8b-66b3-4d3f-e5c2-a6bfbaa8b4ed"
   },
   "outputs": [
    {
     "data": {
      "image/png": "[encoded data removed]",
      "text/plain": [
       "<Figure size 720x360 with 1 Axes>"
      ]
     },
     "metadata": {},
     "output_type": "display_data"
    }
   ],
   "source": [
    "tasas_meses_values = df['MES'].value_counts().index\n",
    "\n",
    "plt.figure(figsize = (10,5))\n",
    "sns.set(style=\"darkgrid\")\n",
    "sns.barplot(tasas_meses_values, tasas_meses['Tasa (%)'], color = 'blue', alpha = 0.75)\n",
    "plt.title('Tasa de Retraso por Mes')\n",
    "plt.ylabel('Tasa de Retraso [%]', fontsize=12)\n",
    "plt.xlabel('Meses', fontsize=12)\n",
    "plt.xticks(rotation=90)\n",
    "plt.ylim(0,10)\n",
    "plt.show()\n"
   ]
  },
  {
   "cell_type": "code",
   "execution_count": 32,
   "metadata": {
    "id": "k2COeKEll4SN"
   },
   "outputs": [
    {
     "data": {
      "text/html": [
       "<div>\n",
       "<style scoped>\n",
       "    .dataframe tbody tr th:only-of-type {\n",
       "        vertical-align: middle;\n",
       "    }\n",
       "\n",
       "    .dataframe tbody tr th {\n",
       "        vertical-align: top;\n",
       "    }\n",
       "\n",
       "    .dataframe thead th {\n",
       "        text-align: right;\n",
       "    }\n",
       "</style>\n",
       "<table border=\"1\" class=\"dataframe\">\n",
       "  <thead>\n",
       "    <tr style=\"text-align: right;\">\n",
       "      <th></th>\n",
       "      <th>Tasa (%)</th>\n",
       "    </tr>\n",
       "  </thead>\n",
       "  <tbody>\n",
       "    <tr>\n",
       "      <th>Viernes</th>\n",
       "      <td>4.50</td>\n",
       "    </tr>\n",
       "    <tr>\n",
       "      <th>Jueves</th>\n",
       "      <td>5.01</td>\n",
       "    </tr>\n",
       "    <tr>\n",
       "      <th>Lunes</th>\n",
       "      <td>4.95</td>\n",
       "    </tr>\n",
       "    <tr>\n",
       "      <th>Domingo</th>\n",
       "      <td>6.21</td>\n",
       "    </tr>\n",
       "    <tr>\n",
       "      <th>Miercoles</th>\n",
       "      <td>5.85</td>\n",
       "    </tr>\n",
       "    <tr>\n",
       "      <th>Martes</th>\n",
       "      <td>5.91</td>\n",
       "    </tr>\n",
       "    <tr>\n",
       "      <th>Sabado</th>\n",
       "      <td>6.13</td>\n",
       "    </tr>\n",
       "  </tbody>\n",
       "</table>\n",
       "</div>"
      ],
      "text/plain": [
       "           Tasa (%)\n",
       "Viernes        4.50\n",
       "Jueves         5.01\n",
       "Lunes          4.95\n",
       "Domingo        6.21\n",
       "Miercoles      5.85\n",
       "Martes         5.91\n",
       "Sabado         6.13"
      ]
     },
     "execution_count": 32,
     "metadata": {},
     "output_type": "execute_result"
    }
   ],
   "source": [
    "tasas_dias = calcular_tasa(df, 'DIANOM')\n",
    "tasas_dias"
   ]
  },
  {
   "cell_type": "code",
   "execution_count": 33,
   "metadata": {
    "colab": {
     "base_uri": "https://localhost:8080/",
     "height": 70
    },
    "id": "nHZX-cNEl4SO",
    "outputId": "2edf528c-598b-4610-b3b0-3ab3e84e69ff"
   },
   "outputs": [
    {
     "data": {
      "image/png": "[encoded data removed]",
      "text/plain": [
       "<Figure size 576x432 with 1 Axes>"
      ]
     },
     "metadata": {},
     "output_type": "display_data"
    }
   ],
   "source": [
    "tasas_dias_values = df['DIANOM'].value_counts().index\n",
    "\n",
    "sns.set(style=\"darkgrid\")\n",
    "plt.figure(figsize = (8,6))\n",
    "sns.barplot(tasas_dias_values, tasas_dias['Tasa (%)'], color = 'blue', alpha = 0.75)\n",
    "plt.title('Tasa de Retraso por Día')\n",
    "plt.ylabel('Tasa de Retraso [%]', fontsize=12)\n",
    "plt.xlabel('Días', fontsize=12)\n",
    "plt.xticks(rotation=90)\n",
    "plt.ylim(0,7)\n",
    "plt.show()\n"
   ]
  },
  {
   "cell_type": "code",
   "execution_count": 34,
   "metadata": {
    "id": "OEUs3ZHCl4SO"
   },
   "outputs": [
    {
     "data": {
      "text/html": [
       "<div>\n",
       "<style scoped>\n",
       "    .dataframe tbody tr th:only-of-type {\n",
       "        vertical-align: middle;\n",
       "    }\n",
       "\n",
       "    .dataframe tbody tr th {\n",
       "        vertical-align: top;\n",
       "    }\n",
       "\n",
       "    .dataframe thead th {\n",
       "        text-align: right;\n",
       "    }\n",
       "</style>\n",
       "<table border=\"1\" class=\"dataframe\">\n",
       "  <thead>\n",
       "    <tr style=\"text-align: right;\">\n",
       "      <th></th>\n",
       "      <th>Tasa (%)</th>\n",
       "    </tr>\n",
       "  </thead>\n",
       "  <tbody>\n",
       "    <tr>\n",
       "      <th>0</th>\n",
       "      <td>5.58</td>\n",
       "    </tr>\n",
       "    <tr>\n",
       "      <th>1</th>\n",
       "      <td>5.08</td>\n",
       "    </tr>\n",
       "  </tbody>\n",
       "</table>\n",
       "</div>"
      ],
      "text/plain": [
       "   Tasa (%)\n",
       "0      5.58\n",
       "1      5.08"
      ]
     },
     "execution_count": 34,
     "metadata": {},
     "output_type": "execute_result"
    }
   ],
   "source": [
    "tasas_temporada = calcular_tasa(df, 'temporada_alta')\n",
    "tasas_temporada"
   ]
  },
  {
   "cell_type": "code",
   "execution_count": 35,
   "metadata": {
    "colab": {
     "base_uri": "https://localhost:8080/",
     "height": 70
    },
    "id": "iOsjeQBPl4SP",
    "outputId": "9274fff2-6f56-48c5-b9ec-eb721ae6f36f"
   },
   "outputs": [
    {
     "data": {
      "image/png": "[encoded data removed]",
      "text/plain": [
       "<Figure size 576x360 with 1 Axes>"
      ]
     },
     "metadata": {},
     "output_type": "display_data"
    }
   ],
   "source": [
    "tasas_temporada_values = df['temporada_alta'].value_counts().index\n",
    "\n",
    "plt.figure(figsize = (8, 5))\n",
    "sns.set(style=\"darkgrid\")\n",
    "sns.barplot(tasas_temporada_values, tasas_temporada['Tasa (%)'])\n",
    "plt.title('Tasa de Retraso por Temporada')\n",
    "plt.ylabel('Tasa de Retraso [%]', fontsize=12)\n",
    "plt.xlabel('Temporada', fontsize=12)\n",
    "plt.xticks(rotation=90)\n",
    "plt.ylim(0,6)\n",
    "plt.show()\n"
   ]
  },
  {
   "cell_type": "code",
   "execution_count": 36,
   "metadata": {
    "id": "4WZBcmYil4SR"
   },
   "outputs": [
    {
     "data": {
      "text/html": [
       "<div>\n",
       "<style scoped>\n",
       "    .dataframe tbody tr th:only-of-type {\n",
       "        vertical-align: middle;\n",
       "    }\n",
       "\n",
       "    .dataframe tbody tr th {\n",
       "        vertical-align: top;\n",
       "    }\n",
       "\n",
       "    .dataframe thead th {\n",
       "        text-align: right;\n",
       "    }\n",
       "</style>\n",
       "<table border=\"1\" class=\"dataframe\">\n",
       "  <thead>\n",
       "    <tr style=\"text-align: right;\">\n",
       "      <th></th>\n",
       "      <th>Tasa (%)</th>\n",
       "    </tr>\n",
       "  </thead>\n",
       "  <tbody>\n",
       "    <tr>\n",
       "      <th>N</th>\n",
       "      <td>6.64</td>\n",
       "    </tr>\n",
       "    <tr>\n",
       "      <th>I</th>\n",
       "      <td>4.43</td>\n",
       "    </tr>\n",
       "  </tbody>\n",
       "</table>\n",
       "</div>"
      ],
      "text/plain": [
       "   Tasa (%)\n",
       "N      6.64\n",
       "I      4.43"
      ]
     },
     "execution_count": 36,
     "metadata": {},
     "output_type": "execute_result"
    }
   ],
   "source": [
    "tasas_tipovuelo = calcular_tasa(df, 'TIPOVUELO')\n",
    "tasas_tipovuelo"
   ]
  },
  {
   "cell_type": "code",
   "execution_count": 37,
   "metadata": {
    "colab": {
     "base_uri": "https://localhost:8080/",
     "height": 70
    },
    "id": "ez-lNXA8l4SR",
    "outputId": "17c170df-9d95-402f-a011-d4860e4e4e7e"
   },
   "outputs": [
    {
     "data": {
      "image/png": "[encoded data removed]",
      "text/plain": [
       "<Figure size 360x360 with 1 Axes>"
      ]
     },
     "metadata": {},
     "output_type": "display_data"
    }
   ],
   "source": [
    "tasas_tipovuelo_values = df['TIPOVUELO'].value_counts().index\n",
    "\n",
    "plt.figure(figsize = (5,5))\n",
    "sns.set(style=\"darkgrid\")\n",
    "sns.barplot(tasas_tipovuelo_values, tasas_tipovuelo['Tasa (%)'])\n",
    "plt.title('Tasa de Retraso por Tipo de Vuelo')\n",
    "plt.ylabel('Tasa de Retraso [%]', fontsize=12)\n",
    "plt.xlabel('Tipo de Vuelo', fontsize=12)\n",
    "plt.ylim(0,7)\n",
    "plt.show()\n"
   ]
  },
  {
   "cell_type": "code",
   "execution_count": null,
   "metadata": {
    "id": "_ZV_Spdpl4ST"
   },
   "outputs": [],
   "source": [
    "tasa_periododia = calcular_tasa(df, 'periodo_dia')\n",
    "tasa_periododia"
   ]
  },
  {
   "cell_type": "code",
   "execution_count": null,
   "metadata": {
    "colab": {
     "base_uri": "https://localhost:8080/",
     "height": 70
    },
    "id": "1Qs9akywl4SW",
    "outputId": "11902984-f093-481f-d4ff-549ffa2ff6e7"
   },
   "outputs": [],
   "source": [
    "tasas_periodo_values = df['periodo_dia'].value_counts().index\n",
    "\n",
    "plt.figure(figsize = (5,5))\n",
    "sns.set(style=\"darkgrid\")\n",
    "sns.barplot(tasas_periodo_values, tasa_periododia['Tasa (%)'])\n",
    "plt.title('Tasa de Retraso por Periodo')\n",
    "plt.ylabel('Tasa de Retraso [%]', fontsize=12)\n",
    "plt.xlabel('Tipo de Periodo', fontsize=12)\n",
    "plt.ylim(3,7)\n",
    "plt.show()\n"
   ]
  },
  {
   "cell_type": "markdown",
   "metadata": {
    "id": "JBQlBPlel4SY"
   },
   "source": [
    "* ¿Qué variables esperarías que más influyeran en predecir atrasos?"
   ]
  },
  {
   "cell_type": "markdown",
   "metadata": {
    "id": "aRd5pf5Wl4SY"
   },
   "source": [
    "Me parece que las que más podrían influir serían:\n",
    "* **Aerolíneas**: Dependiendo de la calidad de gestión de cada aerolínea puede ser que afecte en sus programaciones. También puede que afecte el tipo de aerolínea, si es una low cost por ejemplo, estas llevan menos equipaje ya que es un costo extra para cada pasajero por lo que el tiempo de carga es menor, corriendo menor riesgo de retraso. \n",
    "* **Tipo de Vuelo**: esto puede afectar en cómo esté el clima del país de destino. Por ejemplo si se tiene que volar a argentina y se tiene que cruzar por la cordillera y hay un mal clima, es posible que se tenga que esperar un rato para poder salir.\n",
    "* **Mes**: Esto va un poco de la mano con lo anterior, si es que es un mes del año donde el clima no es lo suficientemente adecuado, se tendría que esperar.  \n",
    " "
   ]
  },
  {
   "cell_type": "markdown",
   "metadata": {
    "id": "aqRsd9kpl4Sb"
   },
   "source": [
    "### 4. Entrena uno o varios modelos (usando el/los algoritmo(s) que prefieras) para estimar la probabilidad de atraso de un vuelo. Siéntete libre de generar variables adicionales y/o complementar con variables externas."
   ]
  },
  {
   "cell_type": "code",
   "execution_count": null,
   "metadata": {
    "id": "vtfFubprl4Sc"
   },
   "outputs": [],
   "source": [
    "from sklearn.model_selection import train_test_split\n",
    "from sklearn.utils import shuffle\n",
    "from sklearn.linear_model import LogisticRegression\n",
    "from sklearn.metrics import confusion_matrix, classification_report"
   ]
  },
  {
   "cell_type": "code",
   "execution_count": null,
   "metadata": {
    "id": "dnntiInAl4Sd"
   },
   "outputs": [],
   "source": [
    "data = shuffle(df[['OPERA', 'MES', 'TIPOVUELO', 'SIGLADES', 'DIANOM', 'atraso_15']], random_state = 111)"
   ]
  },
  {
   "cell_type": "code",
   "execution_count": null,
   "metadata": {
    "id": "i74cQ8tRl4Se"
   },
   "outputs": [],
   "source": [
    "features = pd.concat([pd.get_dummies(data['OPERA'], prefix = 'OPERA'),pd.get_dummies(data['TIPOVUELO'], prefix = 'TIPOVUELO'), pd.get_dummies(data['MES'], prefix = 'MES')], axis = 1)\n",
    "label = data['atraso_15']"
   ]
  },
  {
   "cell_type": "code",
   "execution_count": null,
   "metadata": {
    "id": "3LxcM5oel4Sg"
   },
   "outputs": [],
   "source": [
    "x_train, x_test, y_train, y_test = train_test_split(features, label, test_size = 0.33, random_state = 42)"
   ]
  },
  {
   "cell_type": "code",
   "execution_count": null,
   "metadata": {
    "colab": {
     "base_uri": "https://localhost:8080/"
    },
    "id": "PSA7AVWil4Sh",
    "outputId": "0a8f158c-ece0-47f4-889e-36f20c245b42",
    "scrolled": true
   },
   "outputs": [],
   "source": [
    "x_train.shape, x_test.shape"
   ]
  },
  {
   "cell_type": "code",
   "execution_count": null,
   "metadata": {
    "colab": {
     "base_uri": "https://localhost:8080/"
    },
    "id": "mvOFF79ll4Sj",
    "outputId": "2741a498-325c-428f-f092-752a3ab32950"
   },
   "outputs": [],
   "source": [
    "y_train.value_counts('%')"
   ]
  },
  {
   "cell_type": "code",
   "execution_count": null,
   "metadata": {
    "colab": {
     "base_uri": "https://localhost:8080/"
    },
    "id": "fasmuFw2l4Sl",
    "outputId": "25d7e0a4-16e7-4414-964d-aa592a1dac0c"
   },
   "outputs": [],
   "source": [
    "y_test.value_counts('%')"
   ]
  },
  {
   "cell_type": "markdown",
   "metadata": {
    "id": "3uB8WhkVl4Sm"
   },
   "source": [
    "#### Utilizando Regresión logística"
   ]
  },
  {
   "cell_type": "code",
   "execution_count": null,
   "metadata": {
    "id": "UbRiZQStl4Sm"
   },
   "outputs": [],
   "source": [
    "logReg = LogisticRegression()\n",
    "model = logReg.fit(x_train, y_train)"
   ]
  },
  {
   "cell_type": "code",
   "execution_count": null,
   "metadata": {
    "id": "FotCKSD8l4Sn"
   },
   "outputs": [],
   "source": [
    "y_pred = model.predict(x_test)"
   ]
  },
  {
   "cell_type": "markdown",
   "metadata": {
    "id": "-Z_F4CxRl4So"
   },
   "source": [
    "#### Métricas Regresión Logística"
   ]
  },
  {
   "cell_type": "code",
   "execution_count": null,
   "metadata": {
    "colab": {
     "base_uri": "https://localhost:8080/"
    },
    "id": "oUB2ZRsGl4Sp",
    "outputId": "dba39f56-25d7-4e35-f44f-4de84f089e57"
   },
   "outputs": [],
   "source": [
    "confusion_matrix(y_test, y_pred)"
   ]
  },
  {
   "cell_type": "code",
   "execution_count": null,
   "metadata": {
    "colab": {
     "base_uri": "https://localhost:8080/"
    },
    "id": "o80sZ-wJl4Sq",
    "outputId": "85911251-035a-43b9-a0ea-8ddbf94963bb"
   },
   "outputs": [],
   "source": [
    "print(classification_report(y_test, y_pred))"
   ]
  },
  {
   "cell_type": "markdown",
   "metadata": {
    "id": "4fbPxOGFl4Ss"
   },
   "source": [
    "#### Utilizando XGBoost"
   ]
  },
  {
   "cell_type": "code",
   "execution_count": null,
   "metadata": {},
   "outputs": [],
   "source": [
    "!pip install xgboost"
   ]
  },
  {
   "cell_type": "code",
   "execution_count": null,
   "metadata": {
    "id": "AMJacTwnl4Su",
    "scrolled": true
   },
   "outputs": [],
   "source": [
    "import xgboost as xgb\n",
    "from xgboost import plot_importance"
   ]
  },
  {
   "cell_type": "code",
   "execution_count": null,
   "metadata": {
    "id": "hrW6G4Aol4Sv"
   },
   "outputs": [],
   "source": [
    "modelxgb = xgb.XGBClassifier(random_state=1, learning_rate=0.01)\n",
    "modelxgb = modelxgb.fit(x_train, y_train)"
   ]
  },
  {
   "cell_type": "code",
   "execution_count": null,
   "metadata": {
    "id": "DDrYKNsHl4Sx"
   },
   "outputs": [],
   "source": [
    "y_predxgb = modelxgb.predict(x_test)"
   ]
  },
  {
   "cell_type": "markdown",
   "metadata": {
    "id": "uFXpbgzVl4S0"
   },
   "source": [
    "#### Métricas XGBoost"
   ]
  },
  {
   "cell_type": "code",
   "execution_count": null,
   "metadata": {
    "colab": {
     "base_uri": "https://localhost:8080/"
    },
    "id": "mib88bPXl4S2",
    "outputId": "8b277686-c6c3-4d53-c9b8-3c426a898a52",
    "scrolled": true
   },
   "outputs": [],
   "source": [
    "confusion_matrix(y_test, y_predxgb)"
   ]
  },
  {
   "cell_type": "code",
   "execution_count": null,
   "metadata": {
    "colab": {
     "base_uri": "https://localhost:8080/"
    },
    "id": "i-jwvSfal4S4",
    "outputId": "78ada608-a900-409e-c8f9-77531223bdb2"
   },
   "outputs": [],
   "source": [
    "print(classification_report(y_test, y_pred))"
   ]
  },
  {
   "cell_type": "markdown",
   "metadata": {
    "id": "EdYHX0mRl4S7"
   },
   "source": [
    "#### Utilizando XGBoost dejando Features más importantes "
   ]
  },
  {
   "cell_type": "code",
   "execution_count": null,
   "metadata": {
    "colab": {
     "base_uri": "https://localhost:8080/"
    },
    "id": "-wjejNael4S8",
    "outputId": "21e00b0e-e55b-4b3a-d473-39bc73358af2"
   },
   "outputs": [],
   "source": [
    "modelxgb.feature_importances_"
   ]
  },
  {
   "cell_type": "code",
   "execution_count": null,
   "metadata": {
    "colab": {
     "base_uri": "https://localhost:8080/",
     "height": 555
    },
    "id": "5a3AO6_4l4S-",
    "outputId": "1e74c9ff-d936-4e79-f30f-0db372b320af"
   },
   "outputs": [],
   "source": [
    "plt.figure(figsize = (13,10))\n",
    "plot_importance(modelxgb)"
   ]
  },
  {
   "cell_type": "code",
   "execution_count": null,
   "metadata": {
    "id": "9jxfZSV8l4S_"
   },
   "outputs": [],
   "source": [
    "features_importantes = features[['MES_7', 'TIPOVUELO_I', 'OPERA_Copa Air', 'OPERA_Latin American Wings',\n",
    "                                'MES_12', 'OPERA_Grupo LATAM', 'MES_10', 'OPERA_JetSmart SPA', 'OPERA_Air Canada',\n",
    "                                'MES_9', 'OPERA_American Airlines']]\n",
    "labels_ = label"
   ]
  },
  {
   "cell_type": "code",
   "execution_count": null,
   "metadata": {
    "id": "amcRCUMxl4TB"
   },
   "outputs": [],
   "source": [
    "x_train2, x_test2, y_train2, y_test2 = train_test_split(features_importantes, labels_, test_size = 0.33, random_state = 42)"
   ]
  },
  {
   "cell_type": "code",
   "execution_count": null,
   "metadata": {
    "id": "G6awBSoql4TD"
   },
   "outputs": [],
   "source": [
    "modelxgb = xgb.XGBClassifier(random_state=1, learning_rate=0.01, subsample = 1, max_depth = 10)\n",
    "modelxgb = modelxgb.fit(x_train2, y_train2)"
   ]
  },
  {
   "cell_type": "code",
   "execution_count": null,
   "metadata": {
    "id": "X8ObmoTul4TE"
   },
   "outputs": [],
   "source": [
    "y_predxgb = modelxgb.predict(x_test2)"
   ]
  },
  {
   "cell_type": "markdown",
   "metadata": {
    "id": "NlCgtHS7l4TF"
   },
   "source": [
    "#### Métricas XGBoost dejando Features más importantes "
   ]
  },
  {
   "cell_type": "code",
   "execution_count": null,
   "metadata": {
    "colab": {
     "base_uri": "https://localhost:8080/"
    },
    "id": "YDqpcHIHl4TG",
    "outputId": "00a30ca9-8cf6-4b90-f380-57379a361684"
   },
   "outputs": [],
   "source": [
    "confusion_matrix(y_test2, y_predxgb)"
   ]
  },
  {
   "cell_type": "code",
   "execution_count": null,
   "metadata": {
    "colab": {
     "base_uri": "https://localhost:8080/"
    },
    "id": "KJDHniAcl4TH",
    "outputId": "52a0face-6f93-4b01-e576-2e526db99da8"
   },
   "outputs": [],
   "source": [
    "print(classification_report(y_test2, y_predxgb))"
   ]
  },
  {
   "cell_type": "markdown",
   "metadata": {
    "id": "qtoufUgal4TJ"
   },
   "source": [
    "### 5. Evalúa tu modelo. ¿Qué performance tiene? ¿Qué métricas usaste para evaluar esa performance y por qué? ¿Por qué elegiste ese algoritmo en particular? ¿Qué variables son las que más influyen en la predicción? ¿Cómo podrías mejorar laperformance?"
   ]
  },
  {
   "cell_type": "markdown",
   "metadata": {
    "id": "5yZZvBUsl4TL"
   },
   "source": [
    "Los modelos utilizados en la sección anterior fueron:\n",
    "* **Regresión Logística**: Fue seleccionado ya que es el modelo más simple para poder resolver problemas de clasificación.\n",
    "* **XGBoost**: Fue seleccionado porque en general tiene un gran desempeño y entrega buenos resultados ya sea para regresión y clasificación, además es bastante rápido y facilita el tuneo de hiperparámetros.\n",
    "\n",
    "Los resultados obtenidos con ambos modelos fueron muy malos. Se utilizó matriz de confusión para validar los resultados. La cantidad de falsos negativos fue muy alta. Una de las posibles razones, la más clara, es el desbalanceo que existe en la clase 'atraso_15'. Del total de datos un 82% corresponde a no atraso y el 18% restante a atraso.\n",
    "Para poder mejorar la performance se tomaron dos decisiones, la primera aplicar un Grid Search CV sobre XGBoost para tunear de mejor manera los hiperparámetros y la segunda realizar un upsampling de la clase desbalanceada, en este caso los atrasos.\n",
    "\n"
   ]
  },
  {
   "cell_type": "markdown",
   "metadata": {
    "id": "bHixmKRyl4TM"
   },
   "source": [
    "### Grid Search CV"
   ]
  },
  {
   "cell_type": "code",
   "execution_count": null,
   "metadata": {
    "id": "hgxc7WKrl4TO"
   },
   "outputs": [],
   "source": [
    "from sklearn.model_selection import GridSearchCV"
   ]
  },
  {
   "cell_type": "code",
   "execution_count": null,
   "metadata": {
    "colab": {
     "base_uri": "https://localhost:8080/",
     "height": 70
    },
    "id": "y2_JLdKZl4TQ",
    "outputId": "2b604e33-9d08-4e22-9f43-fbe6496934e3",
    "scrolled": true
   },
   "outputs": [],
   "source": [
    "parameters = {\n",
    "                'learning_rate': [0.01,0.05, 0.1],\n",
    "                'n_estimators': [50, 100, 150],\n",
    "                'subsample': [0.5, 0.9]\n",
    "}\n",
    "\n",
    "modelxgb_GridCV = GridSearchCV(modelxgb, param_grid = parameters,\n",
    "    cv = 2, n_jobs=-1, verbose=1).fit(x_train, y_train)\n"
   ]
  },
  {
   "cell_type": "code",
   "execution_count": null,
   "metadata": {
    "id": "geWNJc07l4TS"
   },
   "outputs": [],
   "source": [
    "y_predxgb_grid = modelxgb_GridCV.predict(x_test)"
   ]
  },
  {
   "cell_type": "code",
   "execution_count": null,
   "metadata": {
    "id": "X0ko5-uNl4TU"
   },
   "outputs": [],
   "source": [
    "confusion_matrix(y_test, y_predxgb_grid)"
   ]
  },
  {
   "cell_type": "markdown",
   "metadata": {
    "id": "4eZkkTcMl4TW"
   },
   "source": [
    "### Upsampling"
   ]
  },
  {
   "cell_type": "code",
   "execution_count": null,
   "metadata": {
    "id": "Aj49W3RWl4TW"
   },
   "outputs": [],
   "source": [
    "data['atraso_15'].value_counts()"
   ]
  },
  {
   "cell_type": "code",
   "execution_count": null,
   "metadata": {
    "colab": {
     "base_uri": "https://localhost:8080/",
     "height": 104
    },
    "id": "k0IBGwiul4TY",
    "outputId": "8dceb1fb-c50a-4569-e84a-554094111c59"
   },
   "outputs": [],
   "source": [
    "#Resample\n",
    "from sklearn.utils import resample\n",
    "\n",
    "data_no_retraso = data[data['atraso_15'] == 0]\n",
    "data_atraso = data[data['atraso_15'] == 1]\n",
    "\n",
    "data_atraso_upsampled = resample(data_atraso, \n",
    "                                 replace = True,     # sample with replacement\n",
    "                                 n_samples = 30000,    # to match majority class\n",
    "                                 random_state = 42) # reproducible results\n",
    "\n",
    "data_upsampled = pd.concat([data_no_retraso, data_atraso_upsampled])\n"
   ]
  },
  {
   "cell_type": "code",
   "execution_count": null,
   "metadata": {
    "id": "inj9IW-Sl4TZ"
   },
   "outputs": [],
   "source": [
    "data_upsampled['atraso_15'].value_counts()"
   ]
  },
  {
   "cell_type": "code",
   "execution_count": null,
   "metadata": {
    "id": "0Qdwjcnjl4Ta"
   },
   "outputs": [],
   "source": [
    "features_upsampled = pd.concat([pd.get_dummies(data_upsampled['OPERA'], prefix = 'OPERA'),pd.get_dummies(data_upsampled['TIPOVUELO'], prefix = 'TIPOVUELO'), pd.get_dummies(data_upsampled['MES'], prefix = 'MES')], axis = 1)\n",
    "label_upsampled = data_upsampled['atraso_15']"
   ]
  },
  {
   "cell_type": "code",
   "execution_count": null,
   "metadata": {
    "id": "iry5h5C_l4Tc"
   },
   "outputs": [],
   "source": [
    "x_upsampled_train, x_upsampled_test, y_upsampled_train, y_upsampled_test = train_test_split(features_upsampled, label_upsampled, test_size = 0.33, random_state = 42)"
   ]
  },
  {
   "cell_type": "code",
   "execution_count": null,
   "metadata": {
    "id": "l-Sm_Qaol4Te"
   },
   "outputs": [],
   "source": [
    "modelxgb = xgb.XGBClassifier(random_state=1, learning_rate=0.01, subsample = 1, max_depth = 10)\n",
    "modelxgb.fit(x_upsampled_train, y_upsampled_train)"
   ]
  },
  {
   "cell_type": "code",
   "execution_count": null,
   "metadata": {
    "id": "fAWWV6Ljl4Tj"
   },
   "outputs": [],
   "source": [
    "y_upsampled_predxgb = modelxgb.predict(x_upsampled_test)"
   ]
  },
  {
   "cell_type": "code",
   "execution_count": null,
   "metadata": {
    "id": "qPyzOf-jl4Tp",
    "scrolled": true
   },
   "outputs": [],
   "source": [
    "confusion_matrix(y_upsampled_test, y_upsampled_predxgb)"
   ]
  },
  {
   "cell_type": "code",
   "execution_count": null,
   "metadata": {
    "id": "rHGYToKol4Tr"
   },
   "outputs": [],
   "source": [
    "modelxgb.score(x_upsampled_test, y_upsampled_test)"
   ]
  },
  {
   "cell_type": "code",
   "execution_count": null,
   "metadata": {
    "id": "Or_Nu-vyl4Ty",
    "scrolled": true
   },
   "outputs": [],
   "source": [
    "print(classification_report(y_upsampled_test, y_upsampled_predxgb))"
   ]
  },
  {
   "cell_type": "markdown",
   "metadata": {
    "id": "5x_kjNwKl4T2"
   },
   "source": [
    "Observando los dos métodos para incrementar la performance, se puede ver como el modelo no mejoró. Esto puede ser ya que la data creada al upsamplear no tiene ningún sentido. Si se pudiese pudiese balancear la clase tal vez los modelos tendrían un mejor desempeño."
   ]
  },
  {
   "cell_type": "markdown",
   "metadata": {
    "id": "yuGUfNj6QDjn"
   },
   "source": [
    "### propuesta de Desafío"
   ]
  },
  {
   "cell_type": "markdown",
   "metadata": {
    "id": "fngPzBPbkrHF"
   },
   "source": [
    "Pienso que las conclusione llegadas por Juan son las correctas, si bien balancear la data a través de Over-Sampling tiene sus ventajas como desventajas, en este contexto termina siendo una desventaja porque Aumenta la probabilidad de sobreajuste ya que replica los eventos de la clase minoritaria.\n",
    "Sin embargo, es una buena herramienta pero el modelo debe ser diferente. Se propone el uso de un modelo basado en árboles de decisión para disminuir el sesgo de los datos, mezclado con la técnica de over-sampling que juan propone."
   ]
  },
  {
   "cell_type": "code",
   "execution_count": null,
   "metadata": {},
   "outputs": [],
   "source": [
    "!pip install imblearn"
   ]
  },
  {
   "cell_type": "code",
   "execution_count": null,
   "metadata": {
    "id": "cRrP-0H8Aqfj"
   },
   "outputs": [],
   "source": [
    "from sklearn.metrics import confusion_matrix\n",
    "from sklearn.ensemble import RandomForestClassifier\n",
    "from sklearn.model_selection import cross_validate\n",
    "from imblearn.under_sampling import RandomUnderSampler\n",
    "from sklearn.metrics import roc_curve\n",
    "from sklearn.tree import DecisionTreeClassifier\n",
    "from sklearn.preprocessing import LabelEncoder"
   ]
  },
  {
   "cell_type": "markdown",
   "metadata": {},
   "source": [
    "Se utilizarán variables no usadas anteriormente para brindar más información relevante a los vuelos, en este caso factores de temporada alta y el período del día donde afectan directamente a los atrasos"
   ]
  },
  {
   "cell_type": "code",
   "execution_count": null,
   "metadata": {
    "id": "zWPGq5EGRcoM"
   },
   "outputs": [],
   "source": [
    "data_proposed = df[['OPERA', 'MES', 'TIPOVUELO', 'SIGLADES', 'DIANOM', 'atraso_15','temporada_alta','periodo_dia']]"
   ]
  },
  {
   "cell_type": "markdown",
   "metadata": {
    "id": "926FsbUGGlEM"
   },
   "source": [
    "como se trabajará con árboles de decisión, en vez de trabajar con One-Hot encoding, se utilizará una codificación de etiquetas para asociar valores a los datos categoricos y disminuir la cantidad de features que genera One-hot encodig. Debido a que los arboles de decisión se sobre ajustan a un mayor numero de features."
   ]
  },
  {
   "cell_type": "code",
   "execution_count": null,
   "metadata": {
    "id": "K5eb-xrnD3dt"
   },
   "outputs": [],
   "source": [
    "#se codifica las clases \n",
    "labelencoder = LabelEncoder()\n",
    "\n",
    "data_proposed['TIPOVUELO']= labelencoder.fit_transform(data_proposed['TIPOVUELO'])\n",
    "\n",
    "data_proposed['OPERA'] = labelencoder.fit_transform(data_proposed['OPERA'])\n",
    "\n",
    "data_proposed['DIANOM'] = labelencoder.fit_transform(data_proposed['DIANOM'])\n",
    "\n",
    "data_proposed['SIGLADES'] = labelencoder.fit_transform(data_proposed['SIGLADES'])\n",
    "data_proposed['periodo_dia'] = labelencoder.fit_transform(data_proposed['periodo_dia'])\n"
   ]
  },
  {
   "cell_type": "code",
   "execution_count": null,
   "metadata": {
    "id": "x9vL5bGPlhGJ"
   },
   "outputs": [],
   "source": [
    "x = data_proposed[['OPERA', 'MES', 'TIPOVUELO', 'SIGLADES', 'DIANOM','temporada_alta','periodo_dia']]\n",
    "y = data_proposed['atraso_15']"
   ]
  },
  {
   "cell_type": "markdown",
   "metadata": {
    "id": "DpLYj6kW4e-3"
   },
   "source": [
    "se realiza un under sampling"
   ]
  },
  {
   "cell_type": "code",
   "execution_count": null,
   "metadata": {
    "colab": {
     "base_uri": "https://localhost:8080/"
    },
    "id": "qz3DNKwAkeT1",
    "outputId": "345caa6a-f8a6-4372-c00b-900648034f62"
   },
   "outputs": [],
   "source": [
    "rus = RandomUnderSampler(random_state=42, replacement=True)\n",
    "x_rus, y_rus = rus.fit_resample(x, y)\n",
    "\n",
    "print('original dataset shape:', y.value_counts())\n",
    "print('Resample dataset shape', y_rus.value_counts())\n"
   ]
  },
  {
   "cell_type": "code",
   "execution_count": null,
   "metadata": {
    "id": "XWKSXPBeqXjE"
   },
   "outputs": [],
   "source": [
    "def grafica_matriz_confunsion(labels, predictions, p=0.5):\n",
    "  tick_labels = ['No Atraso', 'Atraso']\n",
    "\n",
    "  cm = confusion_matrix(labels, predictions > p)\n",
    "  ax = sns.heatmap(cm, annot=True, fmt=\"d\")\n",
    "  plt.ylabel('Actual')\n",
    "  plt.xlabel('Predicción')\n",
    "  ax.set_xticklabels(tick_labels)\n",
    "  ax.set_yticklabels(tick_labels)"
   ]
  },
  {
   "cell_type": "code",
   "execution_count": null,
   "metadata": {
    "id": "zzp1wPqh7kzl"
   },
   "outputs": [],
   "source": [
    "def plot_roc(labels, predictions):\n",
    "  fp, tp, _ = roc_curve(labels, predictions)\n",
    "\n",
    "  plt.plot(fp, tp, label='ROC', linewidth=3)\n",
    "  plt.xlabel('Porcentage Falsos Positivos')\n",
    "  plt.ylabel('Porcentaje veraderos positivos')\n",
    "  plt.plot(\n",
    "      [0, 1], [0, 1], \n",
    "      linestyle='--', \n",
    "      linewidth=2, \n",
    "      color='r',\n",
    "      label='Chance', \n",
    "      alpha=.8\n",
    "  )\n",
    "  plt.grid(True)\n",
    "  ax = plt.gca()\n",
    "  ax.set_aspect('equal')\n",
    "  plt.legend(loc=\"lower right\")"
   ]
  },
  {
   "cell_type": "markdown",
   "metadata": {
    "id": "H4LlKAO-tgW_"
   },
   "source": [
    "Entre los modelos De random forest y decision tree , si bien poseen valores de reporte similares, estos no son indicador suficiente para corroborar que el modelo funciona correctamente. Por esa razón se utiliza la matriz de confunsión y el ROC, curva de la tasa de verdaderos positivos frente a la tasa de falsos positivos en diferentes umbrales de clasificación."
   ]
  },
  {
   "cell_type": "markdown",
   "metadata": {
    "id": "QCvXkuPJuRKZ"
   },
   "source": [
    "#### Random Forest"
   ]
  },
  {
   "cell_type": "code",
   "execution_count": null,
   "metadata": {
    "id": "MH837Ru2mvZx"
   },
   "outputs": [],
   "source": [
    "x_train3, x_test3, y_train3, y_test3 = train_test_split(x_rus, y_rus, test_size = 0.33, random_state = 42)"
   ]
  },
  {
   "cell_type": "code",
   "execution_count": null,
   "metadata": {
    "id": "pPxlYvah5ltB"
   },
   "outputs": [],
   "source": [
    "rfc = RandomForestClassifier(class_weight=\"balanced\")"
   ]
  },
  {
   "cell_type": "code",
   "execution_count": null,
   "metadata": {
    "id": "kt8BuuXr5otE"
   },
   "outputs": [],
   "source": [
    "rfc = rfc.fit(x_train3,y_train3)\n",
    "y_pred3 = rfc.predict(x_test3)"
   ]
  },
  {
   "cell_type": "code",
   "execution_count": null,
   "metadata": {
    "colab": {
     "base_uri": "https://localhost:8080/",
     "height": 606
    },
    "id": "XaT5HXnv5wTv",
    "outputId": "bd6ab5bf-ee13-4b46-d513-523d7499888d"
   },
   "outputs": [],
   "source": [
    "grafica_matriz_confunsion(y_test3, y_pred3)"
   ]
  },
  {
   "cell_type": "code",
   "execution_count": null,
   "metadata": {
    "colab": {
     "base_uri": "https://localhost:8080/"
    },
    "id": "oZMdFyFd54Gj",
    "outputId": "364ddf94-fd44-4fb9-d964-30ca70811cb0"
   },
   "outputs": [],
   "source": [
    "print(classification_report(y_test3, y_pred3))"
   ]
  },
  {
   "cell_type": "code",
   "execution_count": null,
   "metadata": {
    "colab": {
     "base_uri": "https://localhost:8080/",
     "height": 606
    },
    "id": "CJcw8JYc6FVl",
    "outputId": "27ce8f1b-f3dd-46fe-85a7-a0748d0af75e"
   },
   "outputs": [],
   "source": [
    "plot_roc(y_test3, y_pred3)"
   ]
  },
  {
   "cell_type": "markdown",
   "metadata": {
    "id": "LjqwLHHe_x-0"
   },
   "source": [
    "#### Decision Tree"
   ]
  },
  {
   "cell_type": "code",
   "execution_count": null,
   "metadata": {
    "id": "TAi0yRxuqkE6"
   },
   "outputs": [],
   "source": [
    "dtc = DecisionTreeClassifier(class_weight=\"balanced\")"
   ]
  },
  {
   "cell_type": "code",
   "execution_count": null,
   "metadata": {
    "id": "tfcaJMY0rcdq"
   },
   "outputs": [],
   "source": [
    "x_train4, x_test4, y_train4, y_test4 = train_test_split(x_rus, y_rus, test_size = 0.33, random_state = 42)"
   ]
  },
  {
   "cell_type": "code",
   "execution_count": null,
   "metadata": {
    "id": "LxhYlX39qrlB"
   },
   "outputs": [],
   "source": [
    "dtc = dtc.fit(x_train4,y_train4)\n",
    "y_pred4 = dtc.predict(x_test4)"
   ]
  },
  {
   "cell_type": "code",
   "execution_count": null,
   "metadata": {
    "colab": {
     "base_uri": "https://localhost:8080/",
     "height": 606
    },
    "id": "IMzDYMCmqy6l",
    "outputId": "631fa45d-8e0f-4b36-8ba6-6fc10afb45db"
   },
   "outputs": [],
   "source": [
    "grafica_matriz_confunsion(y_test4, y_pred4)"
   ]
  },
  {
   "cell_type": "code",
   "execution_count": null,
   "metadata": {
    "colab": {
     "base_uri": "https://localhost:8080/"
    },
    "id": "rgZB0tUaq1Rk",
    "outputId": "cf56b172-f245-4d65-f2aa-ff63f40d3857"
   },
   "outputs": [],
   "source": [
    "print(classification_report(y_test4, y_pred4))"
   ]
  },
  {
   "cell_type": "code",
   "execution_count": null,
   "metadata": {
    "colab": {
     "base_uri": "https://localhost:8080/",
     "height": 606
    },
    "id": "YfuwpOkX7lnB",
    "outputId": "97be43b0-da8d-4b82-adf5-b0f436fcfc67"
   },
   "outputs": [],
   "source": [
    "plot_roc(y_test4, y_pred4)"
   ]
  },
  {
   "cell_type": "markdown",
   "metadata": {
    "id": "1EAeW71n_35L"
   },
   "source": [
    "#### xgboost"
   ]
  },
  {
   "cell_type": "code",
   "execution_count": null,
   "metadata": {
    "id": "ZJCzQAUdBQrY"
   },
   "outputs": [],
   "source": [
    "x_train5, x_test5, y_train5, y_test5 = train_test_split(x_rus, y_rus, test_size = 0.33, random_state = 42)"
   ]
  },
  {
   "cell_type": "code",
   "execution_count": null,
   "metadata": {
    "id": "SA7LInuB__KU"
   },
   "outputs": [],
   "source": [
    "modelxgb = xgb.XGBClassifier(random_state=1, learning_rate=0.01, subsample = 1, max_depth = 10)\n",
    "modelxgb = modelxgb.fit(x_train5, y_train5)\n",
    "y_pred5 = modelxgb.predict(x_test5)"
   ]
  },
  {
   "cell_type": "code",
   "execution_count": null,
   "metadata": {
    "colab": {
     "base_uri": "https://localhost:8080/",
     "height": 606
    },
    "id": "UVLVynueBbB0",
    "outputId": "8f5f926e-7b68-4805-f3fd-392d8fa462b4"
   },
   "outputs": [],
   "source": [
    "grafica_matriz_confunsion(y_test5, y_pred5)"
   ]
  },
  {
   "cell_type": "code",
   "execution_count": null,
   "metadata": {
    "colab": {
     "base_uri": "https://localhost:8080/"
    },
    "id": "ae8Ah10UBbB1",
    "outputId": "f633b115-75d4-42af-a643-14e880d9857a"
   },
   "outputs": [],
   "source": [
    "print(classification_report(y_test5, y_pred5))"
   ]
  },
  {
   "cell_type": "code",
   "execution_count": null,
   "metadata": {
    "colab": {
     "base_uri": "https://localhost:8080/",
     "height": 606
    },
    "id": "LS-C5gUOBbB1",
    "outputId": "5cc45566-dc63-4533-fb8c-c5b29754e43d"
   },
   "outputs": [],
   "source": [
    "plot_roc(y_test5, y_pred5)"
   ]
  },
  {
   "cell_type": "markdown",
   "metadata": {
    "id": "YYXH_TCcUKPr"
   },
   "source": [
    "Realizando undersampling, ocurre que eliminamos información que no sabemos si tendrá significado en el aprendizaje."
   ]
  },
  {
   "cell_type": "markdown",
   "metadata": {
    "id": "kWqXa6JrT9ep"
   },
   "source": [
    "### con oversampling"
   ]
  },
  {
   "cell_type": "markdown",
   "metadata": {
    "id": "r529ha-MUAZC"
   },
   "source": [
    "oversampling, creando data sintetica SMOTE"
   ]
  },
  {
   "cell_type": "code",
   "execution_count": null,
   "metadata": {
    "colab": {
     "base_uri": "https://localhost:8080/"
    },
    "id": "wpuW_GBjUAZD",
    "outputId": "74addf23-7d2b-4f7f-bf55-324118c72d5d"
   },
   "outputs": [],
   "source": [
    "# import library\n",
    "from imblearn.over_sampling import SMOTE\n",
    "\n",
    "smote = SMOTE()\n",
    "\n",
    "# fit predictor and target variable\n",
    "x_rus, y_rus = smote.fit_resample(x, y)\n",
    "\n",
    "print('Original dataset shape',  y.value_counts())\n",
    "print('Resample dataset shape', y_rus.value_counts())"
   ]
  },
  {
   "cell_type": "markdown",
   "metadata": {
    "id": "hjz3uqoQUAZH"
   },
   "source": [
    "#### Random Forest"
   ]
  },
  {
   "cell_type": "code",
   "execution_count": null,
   "metadata": {
    "id": "RRzT9PfIUAZH"
   },
   "outputs": [],
   "source": [
    "x_train3, x_test3, y_train3, y_test3 = train_test_split(x_rus, y_rus, test_size = 0.33, random_state = 42)"
   ]
  },
  {
   "cell_type": "code",
   "execution_count": null,
   "metadata": {
    "id": "VcKI0ahyUAZI"
   },
   "outputs": [],
   "source": [
    "rfc = RandomForestClassifier(class_weight=\"balanced\")"
   ]
  },
  {
   "cell_type": "code",
   "execution_count": null,
   "metadata": {
    "id": "3lhMTuqvUAZI"
   },
   "outputs": [],
   "source": [
    "rfc = rfc.fit(x_train3,y_train3)\n",
    "y_pred3 = rfc.predict(x_test3)"
   ]
  },
  {
   "cell_type": "code",
   "execution_count": null,
   "metadata": {
    "colab": {
     "base_uri": "https://localhost:8080/",
     "height": 606
    },
    "id": "wr8pUCtGUAZI",
    "outputId": "abfd88f3-1364-42bd-8f62-f9a2227d3fcc"
   },
   "outputs": [],
   "source": [
    "grafica_matriz_confunsion(y_test3, y_pred3)"
   ]
  },
  {
   "cell_type": "code",
   "execution_count": null,
   "metadata": {
    "colab": {
     "base_uri": "https://localhost:8080/"
    },
    "id": "Z-BrZ5UNUAZI",
    "outputId": "5663611a-e22d-43c9-e883-5dd23a4cab98"
   },
   "outputs": [],
   "source": [
    "print(classification_report(y_test3, y_pred3))"
   ]
  },
  {
   "cell_type": "code",
   "execution_count": null,
   "metadata": {
    "colab": {
     "base_uri": "https://localhost:8080/",
     "height": 606
    },
    "id": "gERn6ramUAZI",
    "outputId": "ceae61bb-07f1-48ae-9c8b-7f334812212c"
   },
   "outputs": [],
   "source": [
    "plot_roc(y_test3, y_pred3)"
   ]
  },
  {
   "cell_type": "markdown",
   "metadata": {
    "id": "fD2NR90zUAZJ"
   },
   "source": [
    "#### Decision Tree"
   ]
  },
  {
   "cell_type": "code",
   "execution_count": null,
   "metadata": {
    "id": "fAbqcEUoUAZJ"
   },
   "outputs": [],
   "source": [
    "dtc = DecisionTreeClassifier(class_weight=\"balanced\")"
   ]
  },
  {
   "cell_type": "code",
   "execution_count": null,
   "metadata": {
    "id": "Vn7h8WH5UAZJ"
   },
   "outputs": [],
   "source": [
    "x_train4, x_test4, y_train4, y_test4 = train_test_split(x_rus, y_rus, test_size = 0.33, random_state = 42)"
   ]
  },
  {
   "cell_type": "code",
   "execution_count": null,
   "metadata": {
    "id": "aPnuVFTPUAZJ"
   },
   "outputs": [],
   "source": [
    "dtc = dtc.fit(x_train4,y_train4)\n",
    "y_pred4 = dtc.predict(x_test4)"
   ]
  },
  {
   "cell_type": "code",
   "execution_count": null,
   "metadata": {
    "colab": {
     "base_uri": "https://localhost:8080/",
     "height": 606
    },
    "id": "sYogE00rUAZJ",
    "outputId": "b6ad8daa-90f9-457e-f023-b41448f72690"
   },
   "outputs": [],
   "source": [
    "grafica_matriz_confunsion(y_test4, y_pred4)"
   ]
  },
  {
   "cell_type": "code",
   "execution_count": null,
   "metadata": {
    "colab": {
     "base_uri": "https://localhost:8080/"
    },
    "id": "f-L9nPKDUAZK",
    "outputId": "8ed3cb9b-dfb1-4604-fe28-da2b9340639e"
   },
   "outputs": [],
   "source": [
    "print(classification_report(y_test4, y_pred4))"
   ]
  },
  {
   "cell_type": "code",
   "execution_count": null,
   "metadata": {
    "colab": {
     "base_uri": "https://localhost:8080/",
     "height": 606
    },
    "id": "Zwi9VX2rUAZK",
    "outputId": "5cc3d5ef-582c-4aef-d5ac-e447a283bd91"
   },
   "outputs": [],
   "source": [
    "plot_roc(y_test4, y_pred4)"
   ]
  },
  {
   "cell_type": "markdown",
   "metadata": {
    "id": "a04-FuHJUAZK"
   },
   "source": [
    "#### Xgboost"
   ]
  },
  {
   "cell_type": "code",
   "execution_count": null,
   "metadata": {
    "id": "MSO_3KZgUAZK"
   },
   "outputs": [],
   "source": [
    "x_train5, x_test5, y_train5, y_test5 = train_test_split(x_rus, y_rus, test_size = 0.33, random_state = 42)"
   ]
  },
  {
   "cell_type": "code",
   "execution_count": null,
   "metadata": {
    "id": "yVLsfr8tUAZK"
   },
   "outputs": [],
   "source": [
    "modelxgb = xgb.XGBClassifier(random_state=1, learning_rate=0.01, subsample = 1, max_depth = 10)\n",
    "modelxgb = modelxgb.fit(x_train5, y_train5)\n",
    "y_pred5 = modelxgb.predict(x_test5)"
   ]
  },
  {
   "cell_type": "code",
   "execution_count": null,
   "metadata": {
    "colab": {
     "base_uri": "https://localhost:8080/",
     "height": 606
    },
    "id": "tFlFEnvIUAZL",
    "outputId": "02fcd7d5-e5f1-4c8d-8371-87d562555f57"
   },
   "outputs": [],
   "source": [
    "grafica_matriz_confunsion(y_test5, y_pred5)"
   ]
  },
  {
   "cell_type": "code",
   "execution_count": null,
   "metadata": {
    "colab": {
     "base_uri": "https://localhost:8080/"
    },
    "id": "RCLp44k9UAZL",
    "outputId": "46ebc1be-d936-4464-d2ed-afe9afe01295"
   },
   "outputs": [],
   "source": [
    "print(classification_report(y_test5, y_pred5))"
   ]
  },
  {
   "cell_type": "code",
   "execution_count": null,
   "metadata": {
    "colab": {
     "base_uri": "https://localhost:8080/",
     "height": 606
    },
    "id": "jkHtU60RUAZL",
    "outputId": "3bd1f037-d505-4a17-9cf0-022e2a95e4ca"
   },
   "outputs": [],
   "source": [
    "plot_roc(y_test5, y_pred5)"
   ]
  },
  {
   "cell_type": "markdown",
   "metadata": {
    "id": "2v-dKqy_WUQf"
   },
   "source": [
    "Finalmente, en base a los gráficos de ROC, Reportes y Matriz de Confunsión, los siguientes cambios consiguieron una mejora significativa : \n",
    "* cambiar de One-Hot encoding a label encoder para disminuir la cantidad de características\n",
    "* utilizar modelos basados en árboles de decisión\n",
    "* Realizar over-sampling, utilizando datos sintéticos SMOTE\n",
    "\n",
    "Se concluye que utilizando el modelo randomForest con oversampling se obtiene un resultado más significativo para la predicción"
   ]
  },
  {
   "cell_type": "code",
   "execution_count": null,
   "metadata": {},
   "outputs": [],
   "source": []
  }
 ],
 "metadata": {
  "colab": {
   "provenance": []
  },
  "kernelspec": {
   "display_name": "Python 3 (ipykernel)",
   "language": "python",
   "name": "python3"
  },
  "language_info": {
   "codemirror_mode": {
    "name": "ipython",
    "version": 3
   },
   "file_extension": ".py",
   "mimetype": "text/x-python",
   "name": "python",
   "nbconvert_exporter": "python",
   "pygments_lexer": "ipython3",
   "version": "3.9.13"
  }
 },
 "nbformat": 4,
 "nbformat_minor": 1
}
